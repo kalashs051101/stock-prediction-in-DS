{
 "cells": [
  {
   "cell_type": "code",
   "execution_count": 1,
   "id": "f49e06de",
   "metadata": {},
   "outputs": [],
   "source": [
    "import numpy as np\n",
    "import pandas as pd \n",
    "import matplotlib.pyplot as plt\n",
    "import pandas_datareader as pdr\n",
    "import sklearn"
   ]
  },
  {
   "cell_type": "code",
   "execution_count": 2,
   "id": "6fd4953c",
   "metadata": {},
   "outputs": [
    {
     "name": "stderr",
     "output_type": "stream",
     "text": [
      "C:\\Users\\hp\\anaconda3\\lib\\site-packages\\pandas_datareader\\tiingo.py:234: FutureWarning: In a future version of pandas all arguments of concat except for the argument 'objs' will be keyword-only.\n",
      "  return pd.concat(dfs, self._concat_axis)\n"
     ]
    }
   ],
   "source": [
    "key='e0e25aac6ef01a3928c6904c4377a082f1ad8f48'\n",
    "df = pdr.get_data_tiingo('AAPL', api_key = key)"
   ]
  },
  {
   "cell_type": "code",
   "execution_count": 3,
   "id": "49f5afd0",
   "metadata": {},
   "outputs": [
    {
     "data": {
      "text/html": [
       "<div>\n",
       "<style scoped>\n",
       "    .dataframe tbody tr th:only-of-type {\n",
       "        vertical-align: middle;\n",
       "    }\n",
       "\n",
       "    .dataframe tbody tr th {\n",
       "        vertical-align: top;\n",
       "    }\n",
       "\n",
       "    .dataframe thead th {\n",
       "        text-align: right;\n",
       "    }\n",
       "</style>\n",
       "<table border=\"1\" class=\"dataframe\">\n",
       "  <thead>\n",
       "    <tr style=\"text-align: right;\">\n",
       "      <th></th>\n",
       "      <th></th>\n",
       "      <th>close</th>\n",
       "      <th>high</th>\n",
       "      <th>low</th>\n",
       "      <th>open</th>\n",
       "      <th>volume</th>\n",
       "      <th>adjClose</th>\n",
       "      <th>adjHigh</th>\n",
       "      <th>adjLow</th>\n",
       "      <th>adjOpen</th>\n",
       "      <th>adjVolume</th>\n",
       "      <th>divCash</th>\n",
       "      <th>splitFactor</th>\n",
       "    </tr>\n",
       "    <tr>\n",
       "      <th>symbol</th>\n",
       "      <th>date</th>\n",
       "      <th></th>\n",
       "      <th></th>\n",
       "      <th></th>\n",
       "      <th></th>\n",
       "      <th></th>\n",
       "      <th></th>\n",
       "      <th></th>\n",
       "      <th></th>\n",
       "      <th></th>\n",
       "      <th></th>\n",
       "      <th></th>\n",
       "      <th></th>\n",
       "    </tr>\n",
       "  </thead>\n",
       "  <tbody>\n",
       "    <tr>\n",
       "      <th rowspan=\"5\" valign=\"top\">AAPL</th>\n",
       "      <th>2018-09-12 00:00:00+00:00</th>\n",
       "      <td>221.07</td>\n",
       "      <td>225.00</td>\n",
       "      <td>219.84</td>\n",
       "      <td>224.94</td>\n",
       "      <td>49278740</td>\n",
       "      <td>52.927661</td>\n",
       "      <td>53.868565</td>\n",
       "      <td>52.633179</td>\n",
       "      <td>53.854200</td>\n",
       "      <td>197114960</td>\n",
       "      <td>0.0</td>\n",
       "      <td>1.0</td>\n",
       "    </tr>\n",
       "    <tr>\n",
       "      <th>2018-09-13 00:00:00+00:00</th>\n",
       "      <td>226.41</td>\n",
       "      <td>228.35</td>\n",
       "      <td>222.57</td>\n",
       "      <td>223.52</td>\n",
       "      <td>41706377</td>\n",
       "      <td>54.206141</td>\n",
       "      <td>54.670608</td>\n",
       "      <td>53.286785</td>\n",
       "      <td>53.514230</td>\n",
       "      <td>166825508</td>\n",
       "      <td>0.0</td>\n",
       "      <td>1.0</td>\n",
       "    </tr>\n",
       "    <tr>\n",
       "      <th>2018-09-14 00:00:00+00:00</th>\n",
       "      <td>223.84</td>\n",
       "      <td>226.84</td>\n",
       "      <td>222.52</td>\n",
       "      <td>225.75</td>\n",
       "      <td>31999289</td>\n",
       "      <td>53.590843</td>\n",
       "      <td>54.309090</td>\n",
       "      <td>53.274814</td>\n",
       "      <td>54.048127</td>\n",
       "      <td>127997156</td>\n",
       "      <td>0.0</td>\n",
       "      <td>1.0</td>\n",
       "    </tr>\n",
       "    <tr>\n",
       "      <th>2018-09-17 00:00:00+00:00</th>\n",
       "      <td>217.88</td>\n",
       "      <td>222.95</td>\n",
       "      <td>217.27</td>\n",
       "      <td>222.15</td>\n",
       "      <td>37195133</td>\n",
       "      <td>52.163924</td>\n",
       "      <td>53.377763</td>\n",
       "      <td>52.017881</td>\n",
       "      <td>53.186230</td>\n",
       "      <td>148780532</td>\n",
       "      <td>0.0</td>\n",
       "      <td>1.0</td>\n",
       "    </tr>\n",
       "    <tr>\n",
       "      <th>2018-09-18 00:00:00+00:00</th>\n",
       "      <td>218.24</td>\n",
       "      <td>221.85</td>\n",
       "      <td>217.12</td>\n",
       "      <td>217.79</td>\n",
       "      <td>31571712</td>\n",
       "      <td>52.250114</td>\n",
       "      <td>53.114405</td>\n",
       "      <td>51.981968</td>\n",
       "      <td>52.142377</td>\n",
       "      <td>126286848</td>\n",
       "      <td>0.0</td>\n",
       "      <td>1.0</td>\n",
       "    </tr>\n",
       "  </tbody>\n",
       "</table>\n",
       "</div>"
      ],
      "text/plain": [
       "                                   close    high     low    open    volume  \\\n",
       "symbol date                                                                  \n",
       "AAPL   2018-09-12 00:00:00+00:00  221.07  225.00  219.84  224.94  49278740   \n",
       "       2018-09-13 00:00:00+00:00  226.41  228.35  222.57  223.52  41706377   \n",
       "       2018-09-14 00:00:00+00:00  223.84  226.84  222.52  225.75  31999289   \n",
       "       2018-09-17 00:00:00+00:00  217.88  222.95  217.27  222.15  37195133   \n",
       "       2018-09-18 00:00:00+00:00  218.24  221.85  217.12  217.79  31571712   \n",
       "\n",
       "                                   adjClose    adjHigh     adjLow    adjOpen  \\\n",
       "symbol date                                                                    \n",
       "AAPL   2018-09-12 00:00:00+00:00  52.927661  53.868565  52.633179  53.854200   \n",
       "       2018-09-13 00:00:00+00:00  54.206141  54.670608  53.286785  53.514230   \n",
       "       2018-09-14 00:00:00+00:00  53.590843  54.309090  53.274814  54.048127   \n",
       "       2018-09-17 00:00:00+00:00  52.163924  53.377763  52.017881  53.186230   \n",
       "       2018-09-18 00:00:00+00:00  52.250114  53.114405  51.981968  52.142377   \n",
       "\n",
       "                                  adjVolume  divCash  splitFactor  \n",
       "symbol date                                                        \n",
       "AAPL   2018-09-12 00:00:00+00:00  197114960      0.0          1.0  \n",
       "       2018-09-13 00:00:00+00:00  166825508      0.0          1.0  \n",
       "       2018-09-14 00:00:00+00:00  127997156      0.0          1.0  \n",
       "       2018-09-17 00:00:00+00:00  148780532      0.0          1.0  \n",
       "       2018-09-18 00:00:00+00:00  126286848      0.0          1.0  "
      ]
     },
     "execution_count": 3,
     "metadata": {},
     "output_type": "execute_result"
    }
   ],
   "source": [
    "df.head()"
   ]
  },
  {
   "cell_type": "code",
   "execution_count": 4,
   "id": "0d754336",
   "metadata": {},
   "outputs": [],
   "source": [
    "df.to_csv('AAPL.csv')"
   ]
  },
  {
   "cell_type": "code",
   "execution_count": 5,
   "id": "45d49ef7",
   "metadata": {},
   "outputs": [],
   "source": [
    "import pandas as pd"
   ]
  },
  {
   "cell_type": "code",
   "execution_count": 6,
   "id": "775f152d",
   "metadata": {},
   "outputs": [],
   "source": [
    "df = pd.read_csv('AAPL.csv')"
   ]
  },
  {
   "cell_type": "code",
   "execution_count": 7,
   "id": "b066fb2f",
   "metadata": {},
   "outputs": [
    {
     "data": {
      "text/html": [
       "<div>\n",
       "<style scoped>\n",
       "    .dataframe tbody tr th:only-of-type {\n",
       "        vertical-align: middle;\n",
       "    }\n",
       "\n",
       "    .dataframe tbody tr th {\n",
       "        vertical-align: top;\n",
       "    }\n",
       "\n",
       "    .dataframe thead th {\n",
       "        text-align: right;\n",
       "    }\n",
       "</style>\n",
       "<table border=\"1\" class=\"dataframe\">\n",
       "  <thead>\n",
       "    <tr style=\"text-align: right;\">\n",
       "      <th></th>\n",
       "      <th>symbol</th>\n",
       "      <th>date</th>\n",
       "      <th>close</th>\n",
       "      <th>high</th>\n",
       "      <th>low</th>\n",
       "      <th>open</th>\n",
       "      <th>volume</th>\n",
       "      <th>adjClose</th>\n",
       "      <th>adjHigh</th>\n",
       "      <th>adjLow</th>\n",
       "      <th>adjOpen</th>\n",
       "      <th>adjVolume</th>\n",
       "      <th>divCash</th>\n",
       "      <th>splitFactor</th>\n",
       "    </tr>\n",
       "  </thead>\n",
       "  <tbody>\n",
       "    <tr>\n",
       "      <th>0</th>\n",
       "      <td>AAPL</td>\n",
       "      <td>2018-09-12 00:00:00+00:00</td>\n",
       "      <td>221.07</td>\n",
       "      <td>225.00</td>\n",
       "      <td>219.84</td>\n",
       "      <td>224.94</td>\n",
       "      <td>49278740</td>\n",
       "      <td>52.927661</td>\n",
       "      <td>53.868565</td>\n",
       "      <td>52.633179</td>\n",
       "      <td>53.854200</td>\n",
       "      <td>197114960</td>\n",
       "      <td>0.0</td>\n",
       "      <td>1.0</td>\n",
       "    </tr>\n",
       "    <tr>\n",
       "      <th>1</th>\n",
       "      <td>AAPL</td>\n",
       "      <td>2018-09-13 00:00:00+00:00</td>\n",
       "      <td>226.41</td>\n",
       "      <td>228.35</td>\n",
       "      <td>222.57</td>\n",
       "      <td>223.52</td>\n",
       "      <td>41706377</td>\n",
       "      <td>54.206141</td>\n",
       "      <td>54.670608</td>\n",
       "      <td>53.286785</td>\n",
       "      <td>53.514230</td>\n",
       "      <td>166825508</td>\n",
       "      <td>0.0</td>\n",
       "      <td>1.0</td>\n",
       "    </tr>\n",
       "    <tr>\n",
       "      <th>2</th>\n",
       "      <td>AAPL</td>\n",
       "      <td>2018-09-14 00:00:00+00:00</td>\n",
       "      <td>223.84</td>\n",
       "      <td>226.84</td>\n",
       "      <td>222.52</td>\n",
       "      <td>225.75</td>\n",
       "      <td>31999289</td>\n",
       "      <td>53.590843</td>\n",
       "      <td>54.309090</td>\n",
       "      <td>53.274814</td>\n",
       "      <td>54.048127</td>\n",
       "      <td>127997156</td>\n",
       "      <td>0.0</td>\n",
       "      <td>1.0</td>\n",
       "    </tr>\n",
       "    <tr>\n",
       "      <th>3</th>\n",
       "      <td>AAPL</td>\n",
       "      <td>2018-09-17 00:00:00+00:00</td>\n",
       "      <td>217.88</td>\n",
       "      <td>222.95</td>\n",
       "      <td>217.27</td>\n",
       "      <td>222.15</td>\n",
       "      <td>37195133</td>\n",
       "      <td>52.163924</td>\n",
       "      <td>53.377763</td>\n",
       "      <td>52.017881</td>\n",
       "      <td>53.186230</td>\n",
       "      <td>148780532</td>\n",
       "      <td>0.0</td>\n",
       "      <td>1.0</td>\n",
       "    </tr>\n",
       "    <tr>\n",
       "      <th>4</th>\n",
       "      <td>AAPL</td>\n",
       "      <td>2018-09-18 00:00:00+00:00</td>\n",
       "      <td>218.24</td>\n",
       "      <td>221.85</td>\n",
       "      <td>217.12</td>\n",
       "      <td>217.79</td>\n",
       "      <td>31571712</td>\n",
       "      <td>52.250114</td>\n",
       "      <td>53.114405</td>\n",
       "      <td>51.981968</td>\n",
       "      <td>52.142377</td>\n",
       "      <td>126286848</td>\n",
       "      <td>0.0</td>\n",
       "      <td>1.0</td>\n",
       "    </tr>\n",
       "  </tbody>\n",
       "</table>\n",
       "</div>"
      ],
      "text/plain": [
       "  symbol                       date   close    high     low    open    volume  \\\n",
       "0   AAPL  2018-09-12 00:00:00+00:00  221.07  225.00  219.84  224.94  49278740   \n",
       "1   AAPL  2018-09-13 00:00:00+00:00  226.41  228.35  222.57  223.52  41706377   \n",
       "2   AAPL  2018-09-14 00:00:00+00:00  223.84  226.84  222.52  225.75  31999289   \n",
       "3   AAPL  2018-09-17 00:00:00+00:00  217.88  222.95  217.27  222.15  37195133   \n",
       "4   AAPL  2018-09-18 00:00:00+00:00  218.24  221.85  217.12  217.79  31571712   \n",
       "\n",
       "    adjClose    adjHigh     adjLow    adjOpen  adjVolume  divCash  splitFactor  \n",
       "0  52.927661  53.868565  52.633179  53.854200  197114960      0.0          1.0  \n",
       "1  54.206141  54.670608  53.286785  53.514230  166825508      0.0          1.0  \n",
       "2  53.590843  54.309090  53.274814  54.048127  127997156      0.0          1.0  \n",
       "3  52.163924  53.377763  52.017881  53.186230  148780532      0.0          1.0  \n",
       "4  52.250114  53.114405  51.981968  52.142377  126286848      0.0          1.0  "
      ]
     },
     "execution_count": 7,
     "metadata": {},
     "output_type": "execute_result"
    }
   ],
   "source": [
    "df.head()"
   ]
  },
  {
   "cell_type": "code",
   "execution_count": 8,
   "id": "d40c55f5",
   "metadata": {},
   "outputs": [
    {
     "data": {
      "text/html": [
       "<div>\n",
       "<style scoped>\n",
       "    .dataframe tbody tr th:only-of-type {\n",
       "        vertical-align: middle;\n",
       "    }\n",
       "\n",
       "    .dataframe tbody tr th {\n",
       "        vertical-align: top;\n",
       "    }\n",
       "\n",
       "    .dataframe thead th {\n",
       "        text-align: right;\n",
       "    }\n",
       "</style>\n",
       "<table border=\"1\" class=\"dataframe\">\n",
       "  <thead>\n",
       "    <tr style=\"text-align: right;\">\n",
       "      <th></th>\n",
       "      <th>symbol</th>\n",
       "      <th>date</th>\n",
       "      <th>close</th>\n",
       "      <th>high</th>\n",
       "      <th>low</th>\n",
       "      <th>open</th>\n",
       "      <th>volume</th>\n",
       "      <th>adjClose</th>\n",
       "      <th>adjHigh</th>\n",
       "      <th>adjLow</th>\n",
       "      <th>adjOpen</th>\n",
       "      <th>adjVolume</th>\n",
       "      <th>divCash</th>\n",
       "      <th>splitFactor</th>\n",
       "    </tr>\n",
       "  </thead>\n",
       "  <tbody>\n",
       "    <tr>\n",
       "      <th>1251</th>\n",
       "      <td>AAPL</td>\n",
       "      <td>2023-09-01 00:00:00+00:00</td>\n",
       "      <td>189.46</td>\n",
       "      <td>189.920</td>\n",
       "      <td>188.28</td>\n",
       "      <td>189.485</td>\n",
       "      <td>45766503</td>\n",
       "      <td>189.46</td>\n",
       "      <td>189.920</td>\n",
       "      <td>188.28</td>\n",
       "      <td>189.485</td>\n",
       "      <td>45766503</td>\n",
       "      <td>0.0</td>\n",
       "      <td>1.0</td>\n",
       "    </tr>\n",
       "    <tr>\n",
       "      <th>1252</th>\n",
       "      <td>AAPL</td>\n",
       "      <td>2023-09-05 00:00:00+00:00</td>\n",
       "      <td>189.70</td>\n",
       "      <td>189.980</td>\n",
       "      <td>187.61</td>\n",
       "      <td>188.280</td>\n",
       "      <td>45280027</td>\n",
       "      <td>189.70</td>\n",
       "      <td>189.980</td>\n",
       "      <td>187.61</td>\n",
       "      <td>188.280</td>\n",
       "      <td>45280027</td>\n",
       "      <td>0.0</td>\n",
       "      <td>1.0</td>\n",
       "    </tr>\n",
       "    <tr>\n",
       "      <th>1253</th>\n",
       "      <td>AAPL</td>\n",
       "      <td>2023-09-06 00:00:00+00:00</td>\n",
       "      <td>182.91</td>\n",
       "      <td>188.850</td>\n",
       "      <td>181.47</td>\n",
       "      <td>188.400</td>\n",
       "      <td>81755816</td>\n",
       "      <td>182.91</td>\n",
       "      <td>188.850</td>\n",
       "      <td>181.47</td>\n",
       "      <td>188.400</td>\n",
       "      <td>81755816</td>\n",
       "      <td>0.0</td>\n",
       "      <td>1.0</td>\n",
       "    </tr>\n",
       "    <tr>\n",
       "      <th>1254</th>\n",
       "      <td>AAPL</td>\n",
       "      <td>2023-09-07 00:00:00+00:00</td>\n",
       "      <td>177.56</td>\n",
       "      <td>178.210</td>\n",
       "      <td>173.54</td>\n",
       "      <td>175.180</td>\n",
       "      <td>112488803</td>\n",
       "      <td>177.56</td>\n",
       "      <td>178.210</td>\n",
       "      <td>173.54</td>\n",
       "      <td>175.180</td>\n",
       "      <td>112488803</td>\n",
       "      <td>0.0</td>\n",
       "      <td>1.0</td>\n",
       "    </tr>\n",
       "    <tr>\n",
       "      <th>1255</th>\n",
       "      <td>AAPL</td>\n",
       "      <td>2023-09-08 00:00:00+00:00</td>\n",
       "      <td>178.18</td>\n",
       "      <td>180.239</td>\n",
       "      <td>177.79</td>\n",
       "      <td>178.350</td>\n",
       "      <td>65602066</td>\n",
       "      <td>178.18</td>\n",
       "      <td>180.239</td>\n",
       "      <td>177.79</td>\n",
       "      <td>178.350</td>\n",
       "      <td>65602066</td>\n",
       "      <td>0.0</td>\n",
       "      <td>1.0</td>\n",
       "    </tr>\n",
       "  </tbody>\n",
       "</table>\n",
       "</div>"
      ],
      "text/plain": [
       "     symbol                       date   close     high     low     open  \\\n",
       "1251   AAPL  2023-09-01 00:00:00+00:00  189.46  189.920  188.28  189.485   \n",
       "1252   AAPL  2023-09-05 00:00:00+00:00  189.70  189.980  187.61  188.280   \n",
       "1253   AAPL  2023-09-06 00:00:00+00:00  182.91  188.850  181.47  188.400   \n",
       "1254   AAPL  2023-09-07 00:00:00+00:00  177.56  178.210  173.54  175.180   \n",
       "1255   AAPL  2023-09-08 00:00:00+00:00  178.18  180.239  177.79  178.350   \n",
       "\n",
       "         volume  adjClose  adjHigh  adjLow  adjOpen  adjVolume  divCash  \\\n",
       "1251   45766503    189.46  189.920  188.28  189.485   45766503      0.0   \n",
       "1252   45280027    189.70  189.980  187.61  188.280   45280027      0.0   \n",
       "1253   81755816    182.91  188.850  181.47  188.400   81755816      0.0   \n",
       "1254  112488803    177.56  178.210  173.54  175.180  112488803      0.0   \n",
       "1255   65602066    178.18  180.239  177.79  178.350   65602066      0.0   \n",
       "\n",
       "      splitFactor  \n",
       "1251          1.0  \n",
       "1252          1.0  \n",
       "1253          1.0  \n",
       "1254          1.0  \n",
       "1255          1.0  "
      ]
     },
     "execution_count": 8,
     "metadata": {},
     "output_type": "execute_result"
    }
   ],
   "source": [
    "df.tail()"
   ]
  },
  {
   "cell_type": "code",
   "execution_count": 9,
   "id": "41243208",
   "metadata": {},
   "outputs": [],
   "source": [
    "df1 = df.reset_index()['close']"
   ]
  },
  {
   "cell_type": "code",
   "execution_count": 10,
   "id": "dbd5359f",
   "metadata": {},
   "outputs": [
    {
     "data": {
      "text/plain": [
       "(1256,)"
      ]
     },
     "execution_count": 10,
     "metadata": {},
     "output_type": "execute_result"
    }
   ],
   "source": [
    "df1.shape"
   ]
  },
  {
   "cell_type": "code",
   "execution_count": 11,
   "id": "2e61b341",
   "metadata": {},
   "outputs": [
    {
     "data": {
      "text/plain": [
       "[<matplotlib.lines.Line2D at 0x1ef1d7a5b20>]"
      ]
     },
     "execution_count": 11,
     "metadata": {},
     "output_type": "execute_result"
    },
    {
     "data": {
      "image/png": "[encoded data removed]",
      "text/plain": [
       "<Figure size 640x480 with 1 Axes>"
      ]
     },
     "metadata": {},
     "output_type": "display_data"
    }
   ],
   "source": [
    "plt.plot(df1)"
   ]
  },
  {
   "cell_type": "code",
   "execution_count": 12,
   "id": "a5f7f12a",
   "metadata": {},
   "outputs": [],
   "source": [
    "# LSTM are sensitive to the scale of the data. so we apply minmax scaler"
   ]
  },
  {
   "cell_type": "code",
   "execution_count": 13,
   "id": "f2d431e3",
   "metadata": {},
   "outputs": [],
   "source": [
    "from sklearn.preprocessing import MinMaxScaler"
   ]
  },
  {
   "cell_type": "code",
   "execution_count": 14,
   "id": "edf64804",
   "metadata": {},
   "outputs": [],
   "source": [
    "scaler = MinMaxScaler(feature_range=(0,1))\n",
    "df1 = scaler.fit_transform(np.array(df1).reshape(-1,1))"
   ]
  },
  {
   "cell_type": "code",
   "execution_count": 15,
   "id": "b2d76b82",
   "metadata": {},
   "outputs": [
    {
     "data": {
      "text/plain": [
       "(1256, 1)"
      ]
     },
     "execution_count": 15,
     "metadata": {},
     "output_type": "execute_result"
    }
   ],
   "source": [
    "df1.shape"
   ]
  },
  {
   "cell_type": "code",
   "execution_count": 16,
   "id": "3e6bef69",
   "metadata": {},
   "outputs": [
    {
     "data": {
      "text/plain": [
       "array([[0.28611146],\n",
       "       [0.29948654],\n",
       "       [0.29304947],\n",
       "       ...,\n",
       "       [0.19053225],\n",
       "       [0.17713212],\n",
       "       [0.17868503]])"
      ]
     },
     "execution_count": 16,
     "metadata": {},
     "output_type": "execute_result"
    }
   ],
   "source": [
    "df1"
   ]
  },
  {
   "cell_type": "code",
   "execution_count": 17,
   "id": "bdbde428",
   "metadata": {},
   "outputs": [],
   "source": [
    "# split the data into test and train \n",
    "\n",
    "training_size = int(len(df1)*0.65)\n",
    "test_size = len(df1)-training_size\n",
    "train_data,test_data = df1[0:training_size,:], df1[training_size:len(df1),:1]"
   ]
  },
  {
   "cell_type": "code",
   "execution_count": 18,
   "id": "93e61a24",
   "metadata": {},
   "outputs": [
    {
     "data": {
      "text/plain": [
       "(816, 440)"
      ]
     },
     "execution_count": 18,
     "metadata": {},
     "output_type": "execute_result"
    }
   ],
   "source": [
    "training_size,test_size"
   ]
  },
  {
   "cell_type": "code",
   "execution_count": 19,
   "id": "5ea68d29",
   "metadata": {},
   "outputs": [
    {
     "data": {
      "text/plain": [
       "(816, 440)"
      ]
     },
     "execution_count": 19,
     "metadata": {},
     "output_type": "execute_result"
    }
   ],
   "source": [
    "len(train_data),len(test_data)"
   ]
  },
  {
   "cell_type": "code",
   "execution_count": 20,
   "id": "2466c695",
   "metadata": {},
   "outputs": [],
   "source": [
    "def create_dataset(dataset, time_step = 1):\n",
    "    dataX, dataY = [] , []\n",
    "    for i in range(len(dataset)-time_step-1):\n",
    "        a = dataset[i:(i+time_step),0]           ### i = 0\n",
    "        dataX.append(a)\n",
    "        dataY.append(dataset[i +time_step, 0])\n",
    "    return np.array(dataX),np.array(dataY)"
   ]
  },
  {
   "cell_type": "code",
   "execution_count": 21,
   "id": "520fe47e",
   "metadata": {},
   "outputs": [],
   "source": [
    "# reshape into X=t,t+1,t+2,t+3 and Y=t+4\n",
    "time_step = 100\n",
    "X_train, y_train = create_dataset(train_data,time_step)\n",
    "X_test,ytest = create_dataset(test_data,time_step)"
   ]
  },
  {
   "cell_type": "code",
   "execution_count": 22,
   "id": "9a34bfde",
   "metadata": {},
   "outputs": [
    {
     "data": {
      "text/plain": [
       "((715, 100), (715,))"
      ]
     },
     "execution_count": 22,
     "metadata": {},
     "output_type": "execute_result"
    }
   ],
   "source": [
    "X_train.shape, y_train.shape"
   ]
  },
  {
   "cell_type": "code",
   "execution_count": 23,
   "id": "ffbdce4b",
   "metadata": {},
   "outputs": [
    {
     "data": {
      "text/plain": [
       "((339, 100), (339,))"
      ]
     },
     "execution_count": 23,
     "metadata": {},
     "output_type": "execute_result"
    }
   ],
   "source": [
    "X_test.shape,ytest.shape"
   ]
  },
  {
   "cell_type": "code",
   "execution_count": 24,
   "id": "c0fa1514",
   "metadata": {},
   "outputs": [],
   "source": [
    "# reshape input to be [samples,time steps,features] wich is required for LSTM\n",
    "X_train = X_train.reshape(X_train.shape[0],X_train.shape[1],1)\n",
    "X_test =  X_test.reshape(X_test.shape[0],X_test.shape[1],1)"
   ]
  },
  {
   "cell_type": "code",
   "execution_count": 26,
   "id": "9ef8eea9",
   "metadata": {},
   "outputs": [],
   "source": [
    "# create the LSTM model\n",
    "import tensorflow as tf\n",
    "import keras\n",
    "from keras import layers\n",
    "from tensorflow.keras.models import Sequential\n",
    "from tensorflow.keras.layers import Dense\n",
    "\n",
    "from tensorflow.keras.layers import LSTM"
   ]
  },
  {
   "cell_type": "code",
   "execution_count": 27,
   "id": "b5524e7b",
   "metadata": {},
   "outputs": [],
   "source": [
    "model = Sequential()"
   ]
  },
  {
   "cell_type": "code",
   "execution_count": 28,
   "id": "1a74e293",
   "metadata": {},
   "outputs": [],
   "source": [
    "model.add(LSTM(50,return_sequences= True,input_shape=(100,1)))\n",
    "model.add(LSTM(50,return_sequences= True))\n",
    "model.add(LSTM(50))\n",
    "model.add(Dense(1))\n",
    "model.compile(optimizer='adam', loss='mean_squared_error')  # Specify optimizer and loss function"
   ]
  },
  {
   "cell_type": "code",
   "execution_count": 29,
   "id": "ec6c06e6",
   "metadata": {},
   "outputs": [
    {
     "name": "stdout",
     "output_type": "stream",
     "text": [
      "Model: \"sequential\"\n",
      "_________________________________________________________________\n",
      " Layer (type)                Output Shape              Param #   \n",
      "=================================================================\n",
      " lstm (LSTM)                 (None, 100, 50)           10400     \n",
      "                                                                 \n",
      " lstm_1 (LSTM)               (None, 100, 50)           20200     \n",
      "                                                                 \n",
      " lstm_2 (LSTM)               (None, 50)                20200     \n",
      "                                                                 \n",
      " dense (Dense)               (None, 1)                 51        \n",
      "                                                                 \n",
      "=================================================================\n",
      "Total params: 50851 (198.64 KB)\n",
      "Trainable params: 50851 (198.64 KB)\n",
      "Non-trainable params: 0 (0.00 Byte)\n",
      "_________________________________________________________________\n"
     ]
    }
   ],
   "source": [
    " model.summary()\n",
    " "
   ]
  },
  {
   "cell_type": "code",
   "execution_count": 30,
   "id": "e633b741",
   "metadata": {},
   "outputs": [
    {
     "name": "stdout",
     "output_type": "stream",
     "text": [
      "Epoch 1/100\n",
      "12/12 [==============================] - 15s 473ms/step - loss: 0.0464 - val_loss: 0.0029\n",
      "Epoch 2/100\n",
      "12/12 [==============================] - 3s 269ms/step - loss: 0.0202 - val_loss: 0.0050\n",
      "Epoch 3/100\n",
      "12/12 [==============================] - 4s 306ms/step - loss: 0.0128 - val_loss: 5.2131e-04\n",
      "Epoch 4/100\n",
      "12/12 [==============================] - 4s 318ms/step - loss: 0.0108 - val_loss: 3.6010e-04\n",
      "Epoch 5/100\n",
      "12/12 [==============================] - 4s 310ms/step - loss: 0.0091 - val_loss: 3.5340e-04\n",
      "Epoch 6/100\n",
      "12/12 [==============================] - 3s 283ms/step - loss: 0.0081 - val_loss: 4.1122e-04\n",
      "Epoch 7/100\n",
      "12/12 [==============================] - 3s 278ms/step - loss: 0.0072 - val_loss: 3.3766e-04\n",
      "Epoch 8/100\n",
      "12/12 [==============================] - 4s 304ms/step - loss: 0.0068 - val_loss: 8.2526e-04\n",
      "Epoch 9/100\n",
      "12/12 [==============================] - 4s 299ms/step - loss: 0.0060 - val_loss: 3.1604e-04\n",
      "Epoch 10/100\n",
      "12/12 [==============================] - 4s 294ms/step - loss: 0.0055 - val_loss: 4.8175e-04\n",
      "Epoch 11/100\n",
      "12/12 [==============================] - 3s 273ms/step - loss: 0.0053 - val_loss: 2.9440e-04\n",
      "Epoch 12/100\n",
      "12/12 [==============================] - 3s 291ms/step - loss: 0.0047 - val_loss: 2.7256e-04\n",
      "Epoch 13/100\n",
      "12/12 [==============================] - 4s 301ms/step - loss: 0.0049 - val_loss: 3.3508e-04\n",
      "Epoch 14/100\n",
      "12/12 [==============================] - 3s 292ms/step - loss: 0.0039 - val_loss: 2.7066e-04\n",
      "Epoch 15/100\n",
      "12/12 [==============================] - 4s 294ms/step - loss: 0.0038 - val_loss: 4.2980e-04\n",
      "Epoch 16/100\n",
      "12/12 [==============================] - 3s 257ms/step - loss: 0.0047 - val_loss: 4.4918e-04\n",
      "Epoch 17/100\n",
      "12/12 [==============================] - 4s 298ms/step - loss: 0.0037 - val_loss: 2.4016e-04\n",
      "Epoch 18/100\n",
      "12/12 [==============================] - 3s 285ms/step - loss: 0.0059 - val_loss: 2.6989e-04\n",
      "Epoch 19/100\n",
      "12/12 [==============================] - 3s 292ms/step - loss: 0.0041 - val_loss: 3.4354e-04\n",
      "Epoch 20/100\n",
      "12/12 [==============================] - 3s 282ms/step - loss: 0.0032 - val_loss: 4.3926e-04\n",
      "Epoch 21/100\n",
      "12/12 [==============================] - 3s 271ms/step - loss: 0.0028 - val_loss: 4.5357e-04\n",
      "Epoch 22/100\n",
      "12/12 [==============================] - 4s 296ms/step - loss: 0.0023 - val_loss: 2.4313e-04\n",
      "Epoch 23/100\n",
      "12/12 [==============================] - 4s 299ms/step - loss: 0.0034 - val_loss: 6.0392e-04\n",
      "Epoch 24/100\n",
      "12/12 [==============================] - 3s 291ms/step - loss: 0.0032 - val_loss: 3.5148e-04\n",
      "Epoch 25/100\n",
      "12/12 [==============================] - 3s 266ms/step - loss: 0.0027 - val_loss: 3.1258e-04\n",
      "Epoch 26/100\n",
      "12/12 [==============================] - 3s 279ms/step - loss: 0.0025 - val_loss: 2.0695e-04\n",
      "Epoch 27/100\n",
      "12/12 [==============================] - 3s 289ms/step - loss: 0.0020 - val_loss: 2.2884e-04\n",
      "Epoch 28/100\n",
      "12/12 [==============================] - 3s 288ms/step - loss: 0.0020 - val_loss: 2.1368e-04\n",
      "Epoch 29/100\n",
      "12/12 [==============================] - 3s 290ms/step - loss: 0.0018 - val_loss: 2.1298e-04\n",
      "Epoch 30/100\n",
      "12/12 [==============================] - 3s 257ms/step - loss: 0.0019 - val_loss: 2.1097e-04\n",
      "Epoch 31/100\n",
      "12/12 [==============================] - 3s 287ms/step - loss: 0.0018 - val_loss: 2.2174e-04\n",
      "Epoch 32/100\n",
      "12/12 [==============================] - 3s 272ms/step - loss: 0.0020 - val_loss: 2.5134e-04\n",
      "Epoch 33/100\n",
      "12/12 [==============================] - 3s 268ms/step - loss: 0.0022 - val_loss: 2.1614e-04\n",
      "Epoch 34/100\n",
      "12/12 [==============================] - 3s 283ms/step - loss: 0.0020 - val_loss: 2.2604e-04\n",
      "Epoch 35/100\n",
      "12/12 [==============================] - 3s 258ms/step - loss: 0.0018 - val_loss: 2.1584e-04\n",
      "Epoch 36/100\n",
      "12/12 [==============================] - 3s 287ms/step - loss: 0.0025 - val_loss: 3.6059e-04\n",
      "Epoch 37/100\n",
      "12/12 [==============================] - 3s 288ms/step - loss: 0.0019 - val_loss: 2.9038e-04\n",
      "Epoch 38/100\n",
      "12/12 [==============================] - 3s 289ms/step - loss: 0.0017 - val_loss: 2.1657e-04\n",
      "Epoch 39/100\n",
      "12/12 [==============================] - 3s 284ms/step - loss: 0.0017 - val_loss: 2.7742e-04\n",
      "Epoch 40/100\n",
      "12/12 [==============================] - 3s 266ms/step - loss: 0.0020 - val_loss: 2.3181e-04\n",
      "Epoch 41/100\n",
      "12/12 [==============================] - 3s 293ms/step - loss: 0.0019 - val_loss: 3.6803e-04\n",
      "Epoch 42/100\n",
      "12/12 [==============================] - 3s 292ms/step - loss: 0.0019 - val_loss: 2.3190e-04\n",
      "Epoch 43/100\n",
      "12/12 [==============================] - 4s 293ms/step - loss: 0.0020 - val_loss: 2.3086e-04\n",
      "Epoch 44/100\n",
      "12/12 [==============================] - 3s 274ms/step - loss: 0.0017 - val_loss: 2.1591e-04\n",
      "Epoch 45/100\n",
      "12/12 [==============================] - 3s 275ms/step - loss: 0.0091 - val_loss: 0.0017\n",
      "Epoch 46/100\n",
      "12/12 [==============================] - 3s 288ms/step - loss: 0.0046 - val_loss: 2.6664e-04\n",
      "Epoch 47/100\n",
      "12/12 [==============================] - 3s 288ms/step - loss: 0.0029 - val_loss: 2.1040e-04\n",
      "Epoch 48/100\n",
      "12/12 [==============================] - 3s 278ms/step - loss: 0.0023 - val_loss: 2.4965e-04\n",
      "Epoch 49/100\n",
      "12/12 [==============================] - 3s 259ms/step - loss: 0.0023 - val_loss: 3.4839e-04\n",
      "Epoch 50/100\n",
      "12/12 [==============================] - 3s 282ms/step - loss: 0.0018 - val_loss: 2.7825e-04\n",
      "Epoch 51/100\n",
      "12/12 [==============================] - 3s 284ms/step - loss: 0.0020 - val_loss: 3.2187e-04\n",
      "Epoch 52/100\n",
      "12/12 [==============================] - 3s 279ms/step - loss: 0.0017 - val_loss: 2.3254e-04\n",
      "Epoch 53/100\n",
      "12/12 [==============================] - 3s 283ms/step - loss: 0.0014 - val_loss: 2.3763e-04\n",
      "Epoch 54/100\n",
      "12/12 [==============================] - 3s 254ms/step - loss: 0.0017 - val_loss: 2.2181e-04\n",
      "Epoch 55/100\n",
      "12/12 [==============================] - 3s 281ms/step - loss: 0.0015 - val_loss: 2.9712e-04\n",
      "Epoch 56/100\n",
      "12/12 [==============================] - 3s 284ms/step - loss: 0.0013 - val_loss: 2.3115e-04\n",
      "Epoch 57/100\n",
      "12/12 [==============================] - 3s 280ms/step - loss: 0.0012 - val_loss: 2.1634e-04\n",
      "Epoch 58/100\n",
      "12/12 [==============================] - 3s 290ms/step - loss: 0.0012 - val_loss: 2.9513e-04\n",
      "Epoch 59/100\n",
      "12/12 [==============================] - 3s 256ms/step - loss: 0.0016 - val_loss: 2.7685e-04\n",
      "Epoch 60/100\n",
      "12/12 [==============================] - 3s 280ms/step - loss: 0.0019 - val_loss: 2.1416e-04\n",
      "Epoch 61/100\n",
      "12/12 [==============================] - 3s 289ms/step - loss: 0.0021 - val_loss: 2.6297e-04\n",
      "Epoch 62/100\n",
      "12/12 [==============================] - 3s 286ms/step - loss: 0.0054 - val_loss: 4.6650e-04\n",
      "Epoch 63/100\n",
      "12/12 [==============================] - 3s 276ms/step - loss: 0.0033 - val_loss: 5.1239e-04\n",
      "Epoch 64/100\n",
      "12/12 [==============================] - 3s 262ms/step - loss: 0.0026 - val_loss: 3.1204e-04\n",
      "Epoch 65/100\n",
      "12/12 [==============================] - 3s 289ms/step - loss: 0.0019 - val_loss: 2.0504e-04\n",
      "Epoch 66/100\n",
      "12/12 [==============================] - 3s 280ms/step - loss: 0.0017 - val_loss: 2.3044e-04\n",
      "Epoch 67/100\n",
      "12/12 [==============================] - 3s 282ms/step - loss: 0.0015 - val_loss: 2.1092e-04\n",
      "Epoch 68/100\n",
      "12/12 [==============================] - 3s 269ms/step - loss: 0.0014 - val_loss: 2.1557e-04\n",
      "Epoch 69/100\n",
      "12/12 [==============================] - 3s 279ms/step - loss: 0.0014 - val_loss: 2.1690e-04\n",
      "Epoch 70/100\n",
      "12/12 [==============================] - 3s 288ms/step - loss: 0.0015 - val_loss: 2.1785e-04\n",
      "Epoch 71/100\n",
      "12/12 [==============================] - 3s 286ms/step - loss: 0.0015 - val_loss: 2.4573e-04\n",
      "Epoch 72/100\n",
      "12/12 [==============================] - 3s 286ms/step - loss: 0.0016 - val_loss: 2.1045e-04\n",
      "Epoch 73/100\n",
      "12/12 [==============================] - 3s 264ms/step - loss: 0.0012 - val_loss: 2.1225e-04\n",
      "Epoch 74/100\n",
      "12/12 [==============================] - 3s 287ms/step - loss: 0.0014 - val_loss: 2.1776e-04\n",
      "Epoch 75/100\n",
      "12/12 [==============================] - 3s 290ms/step - loss: 0.0011 - val_loss: 2.1096e-04\n",
      "Epoch 76/100\n",
      "12/12 [==============================] - 3s 285ms/step - loss: 0.0012 - val_loss: 2.0939e-04\n",
      "Epoch 77/100\n",
      "12/12 [==============================] - 3s 292ms/step - loss: 0.0010 - val_loss: 2.1480e-04\n",
      "Epoch 78/100\n"
     ]
    },
    {
     "name": "stdout",
     "output_type": "stream",
     "text": [
      "12/12 [==============================] - 3s 264ms/step - loss: 9.8865e-04 - val_loss: 2.3405e-04\n",
      "Epoch 79/100\n",
      "12/12 [==============================] - 4s 294ms/step - loss: 0.0019 - val_loss: 2.2013e-04\n",
      "Epoch 80/100\n",
      "12/12 [==============================] - 3s 288ms/step - loss: 0.0015 - val_loss: 2.4027e-04\n",
      "Epoch 81/100\n",
      "12/12 [==============================] - 3s 290ms/step - loss: 0.0018 - val_loss: 2.2107e-04\n",
      "Epoch 82/100\n",
      "12/12 [==============================] - 3s 285ms/step - loss: 0.0011 - val_loss: 2.1755e-04\n",
      "Epoch 83/100\n",
      "12/12 [==============================] - 3s 271ms/step - loss: 0.0013 - val_loss: 2.1297e-04\n",
      "Epoch 84/100\n",
      "12/12 [==============================] - 3s 291ms/step - loss: 0.0012 - val_loss: 2.0661e-04\n",
      "Epoch 85/100\n",
      "12/12 [==============================] - 3s 288ms/step - loss: 0.0011 - val_loss: 2.2127e-04\n",
      "Epoch 86/100\n",
      "12/12 [==============================] - 3s 277ms/step - loss: 0.0015 - val_loss: 2.1238e-04\n",
      "Epoch 87/100\n",
      "12/12 [==============================] - 3s 279ms/step - loss: 0.0017 - val_loss: 2.0521e-04\n",
      "Epoch 88/100\n",
      "12/12 [==============================] - 3s 275ms/step - loss: 0.0019 - val_loss: 2.4168e-04\n",
      "Epoch 89/100\n",
      "12/12 [==============================] - 3s 293ms/step - loss: 0.0017 - val_loss: 2.0258e-04\n",
      "Epoch 90/100\n",
      "12/12 [==============================] - 4s 303ms/step - loss: 0.0013 - val_loss: 1.9314e-04\n",
      "Epoch 91/100\n",
      "12/12 [==============================] - 4s 294ms/step - loss: 0.0014 - val_loss: 2.0004e-04\n",
      "Epoch 92/100\n",
      "12/12 [==============================] - 3s 265ms/step - loss: 0.0010 - val_loss: 2.2611e-04\n",
      "Epoch 93/100\n",
      "12/12 [==============================] - 3s 295ms/step - loss: 0.0011 - val_loss: 2.1618e-04\n",
      "Epoch 94/100\n",
      "12/12 [==============================] - 4s 295ms/step - loss: 0.0019 - val_loss: 2.0782e-04\n",
      "Epoch 95/100\n",
      "12/12 [==============================] - 3s 242ms/step - loss: 0.0019 - val_loss: 2.4568e-04\n",
      "Epoch 96/100\n",
      "12/12 [==============================] - 3s 281ms/step - loss: 9.0882e-04 - val_loss: 1.9538e-04\n",
      "Epoch 97/100\n",
      "12/12 [==============================] - 3s 260ms/step - loss: 0.0013 - val_loss: 2.1074e-04\n",
      "Epoch 98/100\n",
      "12/12 [==============================] - 3s 274ms/step - loss: 0.0012 - val_loss: 2.0635e-04\n",
      "Epoch 99/100\n",
      "12/12 [==============================] - 3s 283ms/step - loss: 0.0013 - val_loss: 1.9606e-04\n",
      "Epoch 100/100\n",
      "12/12 [==============================] - 3s 285ms/step - loss: 9.8049e-04 - val_loss: 1.9088e-04\n"
     ]
    },
    {
     "data": {
      "text/plain": [
       "<keras.src.callbacks.History at 0x1ef2a034070>"
      ]
     },
     "execution_count": 30,
     "metadata": {},
     "output_type": "execute_result"
    }
   ],
   "source": [
    "model.fit(X_train,y_train,validation_data=(X_test,ytest),epochs=100,batch_size=64,verbose=1)"
   ]
  },
  {
   "cell_type": "code",
   "execution_count": null,
   "id": "1b8bc689",
   "metadata": {},
   "outputs": [],
   "source": []
  },
  {
   "cell_type": "code",
   "execution_count": 31,
   "id": "6ddfb4a0",
   "metadata": {},
   "outputs": [
    {
     "name": "stdout",
     "output_type": "stream",
     "text": [
      "23/23 [==============================] - 3s 53ms/step\n",
      "11/11 [==============================] - 1s 51ms/step\n"
     ]
    }
   ],
   "source": [
    "# lets do the prediction and check performance metrics\n",
    "train_predict = model.predict(X_train)\n",
    "test_predict= model.predict(X_test)"
   ]
  },
  {
   "cell_type": "code",
   "execution_count": 32,
   "id": "f90541cf",
   "metadata": {},
   "outputs": [],
   "source": [
    "# tranformback to original form\n",
    "train_predict = scaler.inverse_transform(train_predict)\n",
    "test_predict =scaler.inverse_transform(test_predict)"
   ]
  },
  {
   "cell_type": "code",
   "execution_count": 33,
   "id": "e5995fae",
   "metadata": {},
   "outputs": [],
   "source": [
    "\n",
    "import math \n",
    "from sklearn.metrics import mean_squared_error\n",
    " "
   ]
  },
  {
   "cell_type": "code",
   "execution_count": 34,
   "id": "53e524a4",
   "metadata": {},
   "outputs": [
    {
     "data": {
      "text/plain": [
       "221.15659179461247"
      ]
     },
     "execution_count": 34,
     "metadata": {},
     "output_type": "execute_result"
    }
   ],
   "source": [
    "# calculate to RMSE performance metrics\n",
    "math.sqrt(mean_squared_error(y_train,train_predict))"
   ]
  },
  {
   "cell_type": "code",
   "execution_count": 35,
   "id": "f791b839",
   "metadata": {},
   "outputs": [
    {
     "data": {
      "text/plain": [
       "158.32868222431037"
      ]
     },
     "execution_count": 35,
     "metadata": {},
     "output_type": "execute_result"
    }
   ],
   "source": [
    "# test data rmse\n",
    "math.sqrt(mean_squared_error(ytest,test_predict))"
   ]
  },
  {
   "cell_type": "code",
   "execution_count": 36,
   "id": "60fd5513",
   "metadata": {},
   "outputs": [],
   "source": [
    "look_back = 100\n",
    "trainPredictPlot = np.empty_like(df1)\n",
    "trainPredictPlot[:,:] = np.nan\n",
    "trainPredictPlot[look_back:len(train_predict)+look_back, :] = train_predict\n",
    "\n",
    "testPredictPlot = np.empty_like(df1)\n",
    "testPredictPlot[:,:] = np.nan\n",
    "testPredictPlot[len(train_predict)+(look_back*2)+1 :len(df1)-1,:] = test_predict\n"
   ]
  },
  {
   "cell_type": "code",
   "execution_count": 37,
   "id": "ebd493ca",
   "metadata": {},
   "outputs": [
    {
     "data": {
      "image/png": "[encoded data removed]",
      "text/plain": [
       "<Figure size 640x480 with 1 Axes>"
      ]
     },
     "metadata": {},
     "output_type": "display_data"
    }
   ],
   "source": [
    "# plotting\n",
    "plt.plot(scaler.inverse_transform(df1))\n",
    "plt.plot(trainPredictPlot)\n",
    "plt.plot(testPredictPlot)\n",
    "plt.show()"
   ]
  },
  {
   "cell_type": "code",
   "execution_count": 38,
   "id": "f0aeb9f8",
   "metadata": {},
   "outputs": [],
   "source": [
    "# orange = train data\n",
    "# green = test data"
   ]
  },
  {
   "cell_type": "code",
   "execution_count": 39,
   "id": "10837a17",
   "metadata": {},
   "outputs": [
    {
     "data": {
      "text/plain": [
       "440"
      ]
     },
     "execution_count": 39,
     "metadata": {},
     "output_type": "execute_result"
    }
   ],
   "source": [
    "len(test_data)"
   ]
  },
  {
   "cell_type": "code",
   "execution_count": 40,
   "id": "c438e548",
   "metadata": {},
   "outputs": [],
   "source": [
    "x_input = test_data[340:].reshape(1,-1)"
   ]
  },
  {
   "cell_type": "code",
   "execution_count": 41,
   "id": "28ad073a",
   "metadata": {},
   "outputs": [
    {
     "data": {
      "text/plain": [
       "(1, 100)"
      ]
     },
     "execution_count": 41,
     "metadata": {},
     "output_type": "execute_result"
    }
   ],
   "source": [
    "x_input.shape"
   ]
  },
  {
   "cell_type": "code",
   "execution_count": 42,
   "id": "4e73bfdc",
   "metadata": {},
   "outputs": [],
   "source": [
    "# converting into list\n",
    "temp_input = list(x_input)\n",
    "temp_input = temp_input[0].tolist()"
   ]
  },
  {
   "cell_type": "code",
   "execution_count": 43,
   "id": "88a67ec1",
   "metadata": {},
   "outputs": [
    {
     "data": {
      "text/plain": [
       "[0.14935504070131495,\n",
       " 0.15226048841577955,\n",
       " 0.14980588603631806,\n",
       " 0.14572323105823415,\n",
       " 0.14649968691296178,\n",
       " 0.14259236067626796,\n",
       " 0.14256731371321218,\n",
       " 0.15421415153412643,\n",
       " 0.15739511584220411,\n",
       " 0.15716969317470253,\n",
       " 0.1545397620538509,\n",
       " 0.15180964308077638,\n",
       " 0.1476518472135253,\n",
       " 0.16713838447088286,\n",
       " 0.16696305572949277,\n",
       " 0.16262993112085156,\n",
       " 0.16710081402629928,\n",
       " 0.16758922980588598,\n",
       " 0.16463368816530988,\n",
       " 0.1633813400125234,\n",
       " 0.1633813400125234,\n",
       " 0.16493425172197868,\n",
       " 0.17084533500313087,\n",
       " 0.17112085159674384,\n",
       " 0.1687163431433938,\n",
       " 0.16210394489668123,\n",
       " 0.16280525986224165,\n",
       " 0.1656856606136506,\n",
       " 0.17179711959924854,\n",
       " 0.17648090169067,\n",
       " 0.17635566687539134,\n",
       " 0.1834690043832185,\n",
       " 0.1856230432060112,\n",
       " 0.18219160926737632,\n",
       " 0.18126487163431432,\n",
       " 0.1777833437695679,\n",
       " 0.18467125860989347,\n",
       " 0.18564809016906697,\n",
       " 0.19273638071383836,\n",
       " 0.1915341264871634,\n",
       " 0.19313713212273004,\n",
       " 0.19829680651221032,\n",
       " 0.1955666875391358,\n",
       " 0.1957921102066374,\n",
       " 0.1931621790857858,\n",
       " 0.2007764558547276,\n",
       " 0.19997495303694424,\n",
       " 0.19644333124608637,\n",
       " 0.2034314339386349,\n",
       " 0.2064120225422667,\n",
       " 0.2072636192861615,\n",
       " 0.21823418910457104,\n",
       " 0.21445209768315587,\n",
       " 0.21162179085785848,\n",
       " 0.21282404508453345,\n",
       " 0.20999373825923606,\n",
       " 0.20480901690670006,\n",
       " 0.20348152786474638,\n",
       " 0.20771446462116466,\n",
       " 0.20964308077645577,\n",
       " 0.21001878522229173,\n",
       " 0.21828428303068248,\n",
       " 0.2176330619912335,\n",
       " 0.22106449592986843,\n",
       " 0.21613024420788973,\n",
       " 0.21314965560425791,\n",
       " 0.215178459611772,\n",
       " 0.21735754539762048,\n",
       " 0.21956167814652466,\n",
       " 0.21635566687539132,\n",
       " 0.22289292423293672,\n",
       " 0.22444583594239192,\n",
       " 0.22232936756418276,\n",
       " 0.21475266123982467,\n",
       " 0.21122103944896675,\n",
       " 0.1882279273638071,\n",
       " 0.18036318096430803,\n",
       " 0.18274264245460237,\n",
       " 0.1787100814026299,\n",
       " 0.17815904821540385,\n",
       " 0.17770820288040068,\n",
       " 0.18189104571070758,\n",
       " 0.1768566061365059,\n",
       " 0.1746524733876017,\n",
       " 0.16821540388227924,\n",
       " 0.16944270507200998,\n",
       " 0.17282404508453347,\n",
       " 0.17630557294927984,\n",
       " 0.18604884157795865,\n",
       " 0.17417658108954281,\n",
       " 0.17976205385097055,\n",
       " 0.18371947401377575,\n",
       " 0.1935629304946775,\n",
       " 0.20240450845335,\n",
       " 0.20295554164057605,\n",
       " 0.20693800876643703,\n",
       " 0.20753913587977452,\n",
       " 0.19053224796493418,\n",
       " 0.1771321227301189,\n",
       " 0.17868503443957418]"
      ]
     },
     "execution_count": 43,
     "metadata": {},
     "output_type": "execute_result"
    }
   ],
   "source": [
    "temp_input"
   ]
  },
  {
   "cell_type": "code",
   "execution_count": 44,
   "id": "7fb97dc9",
   "metadata": {},
   "outputs": [
    {
     "name": "stdout",
     "output_type": "stream",
     "text": [
      "[0.19490492]\n",
      "101\n",
      "1 day input [0.15226049 0.14980589 0.14572323 0.14649969 0.14259236 0.14256731\n",
      " 0.15421415 0.15739512 0.15716969 0.15453976 0.15180964 0.14765185\n",
      " 0.16713838 0.16696306 0.16262993 0.16710081 0.16758923 0.16463369\n",
      " 0.16338134 0.16338134 0.16493425 0.17084534 0.17112085 0.16871634\n",
      " 0.16210394 0.16280526 0.16568566 0.17179712 0.1764809  0.17635567\n",
      " 0.183469   0.18562304 0.18219161 0.18126487 0.17778334 0.18467126\n",
      " 0.18564809 0.19273638 0.19153413 0.19313713 0.19829681 0.19556669\n",
      " 0.19579211 0.19316218 0.20077646 0.19997495 0.19644333 0.20343143\n",
      " 0.20641202 0.20726362 0.21823419 0.2144521  0.21162179 0.21282405\n",
      " 0.20999374 0.20480902 0.20348153 0.20771446 0.20964308 0.21001879\n",
      " 0.21828428 0.21763306 0.2210645  0.21613024 0.21314966 0.21517846\n",
      " 0.21735755 0.21956168 0.21635567 0.22289292 0.22444584 0.22232937\n",
      " 0.21475266 0.21122104 0.18822793 0.18036318 0.18274264 0.17871008\n",
      " 0.17815905 0.1777082  0.18189105 0.17685661 0.17465247 0.1682154\n",
      " 0.16944271 0.17282405 0.17630557 0.18604884 0.17417658 0.17976205\n",
      " 0.18371947 0.19356293 0.20240451 0.20295554 0.20693801 0.20753914\n",
      " 0.19053225 0.17713212 0.17868503 0.19490492]\n",
      "1 day output [[0.19390085]]\n",
      "2 day input [0.14980589 0.14572323 0.14649969 0.14259236 0.14256731 0.15421415\n",
      " 0.15739512 0.15716969 0.15453976 0.15180964 0.14765185 0.16713838\n",
      " 0.16696306 0.16262993 0.16710081 0.16758923 0.16463369 0.16338134\n",
      " 0.16338134 0.16493425 0.17084534 0.17112085 0.16871634 0.16210394\n",
      " 0.16280526 0.16568566 0.17179712 0.1764809  0.17635567 0.183469\n",
      " 0.18562304 0.18219161 0.18126487 0.17778334 0.18467126 0.18564809\n",
      " 0.19273638 0.19153413 0.19313713 0.19829681 0.19556669 0.19579211\n",
      " 0.19316218 0.20077646 0.19997495 0.19644333 0.20343143 0.20641202\n",
      " 0.20726362 0.21823419 0.2144521  0.21162179 0.21282405 0.20999374\n",
      " 0.20480902 0.20348153 0.20771446 0.20964308 0.21001879 0.21828428\n",
      " 0.21763306 0.2210645  0.21613024 0.21314966 0.21517846 0.21735755\n",
      " 0.21956168 0.21635567 0.22289292 0.22444584 0.22232937 0.21475266\n",
      " 0.21122104 0.18822793 0.18036318 0.18274264 0.17871008 0.17815905\n",
      " 0.1777082  0.18189105 0.17685661 0.17465247 0.1682154  0.16944271\n",
      " 0.17282405 0.17630557 0.18604884 0.17417658 0.17976205 0.18371947\n",
      " 0.19356293 0.20240451 0.20295554 0.20693801 0.20753914 0.19053225\n",
      " 0.17713212 0.17868503 0.19490492 0.19390085]\n",
      "2 day output [[0.19301178]]\n",
      "3 day input [0.14572323 0.14649969 0.14259236 0.14256731 0.15421415 0.15739512\n",
      " 0.15716969 0.15453976 0.15180964 0.14765185 0.16713838 0.16696306\n",
      " 0.16262993 0.16710081 0.16758923 0.16463369 0.16338134 0.16338134\n",
      " 0.16493425 0.17084534 0.17112085 0.16871634 0.16210394 0.16280526\n",
      " 0.16568566 0.17179712 0.1764809  0.17635567 0.183469   0.18562304\n",
      " 0.18219161 0.18126487 0.17778334 0.18467126 0.18564809 0.19273638\n",
      " 0.19153413 0.19313713 0.19829681 0.19556669 0.19579211 0.19316218\n",
      " 0.20077646 0.19997495 0.19644333 0.20343143 0.20641202 0.20726362\n",
      " 0.21823419 0.2144521  0.21162179 0.21282405 0.20999374 0.20480902\n",
      " 0.20348153 0.20771446 0.20964308 0.21001879 0.21828428 0.21763306\n",
      " 0.2210645  0.21613024 0.21314966 0.21517846 0.21735755 0.21956168\n",
      " 0.21635567 0.22289292 0.22444584 0.22232937 0.21475266 0.21122104\n",
      " 0.18822793 0.18036318 0.18274264 0.17871008 0.17815905 0.1777082\n",
      " 0.18189105 0.17685661 0.17465247 0.1682154  0.16944271 0.17282405\n",
      " 0.17630557 0.18604884 0.17417658 0.17976205 0.18371947 0.19356293\n",
      " 0.20240451 0.20295554 0.20693801 0.20753914 0.19053225 0.17713212\n",
      " 0.17868503 0.19490492 0.19390085 0.19301178]\n",
      "3 day output [[0.19231005]]\n",
      "4 day input [0.14649969 0.14259236 0.14256731 0.15421415 0.15739512 0.15716969\n",
      " 0.15453976 0.15180964 0.14765185 0.16713838 0.16696306 0.16262993\n",
      " 0.16710081 0.16758923 0.16463369 0.16338134 0.16338134 0.16493425\n",
      " 0.17084534 0.17112085 0.16871634 0.16210394 0.16280526 0.16568566\n",
      " 0.17179712 0.1764809  0.17635567 0.183469   0.18562304 0.18219161\n",
      " 0.18126487 0.17778334 0.18467126 0.18564809 0.19273638 0.19153413\n",
      " 0.19313713 0.19829681 0.19556669 0.19579211 0.19316218 0.20077646\n",
      " 0.19997495 0.19644333 0.20343143 0.20641202 0.20726362 0.21823419\n",
      " 0.2144521  0.21162179 0.21282405 0.20999374 0.20480902 0.20348153\n",
      " 0.20771446 0.20964308 0.21001879 0.21828428 0.21763306 0.2210645\n",
      " 0.21613024 0.21314966 0.21517846 0.21735755 0.21956168 0.21635567\n",
      " 0.22289292 0.22444584 0.22232937 0.21475266 0.21122104 0.18822793\n",
      " 0.18036318 0.18274264 0.17871008 0.17815905 0.1777082  0.18189105\n",
      " 0.17685661 0.17465247 0.1682154  0.16944271 0.17282405 0.17630557\n",
      " 0.18604884 0.17417658 0.17976205 0.18371947 0.19356293 0.20240451\n",
      " 0.20295554 0.20693801 0.20753914 0.19053225 0.17713212 0.17868503\n",
      " 0.19490492 0.19390085 0.19301178 0.19231005]\n",
      "4 day output [[0.19174364]]\n",
      "5 day input [0.14259236 0.14256731 0.15421415 0.15739512 0.15716969 0.15453976\n",
      " 0.15180964 0.14765185 0.16713838 0.16696306 0.16262993 0.16710081\n",
      " 0.16758923 0.16463369 0.16338134 0.16338134 0.16493425 0.17084534\n",
      " 0.17112085 0.16871634 0.16210394 0.16280526 0.16568566 0.17179712\n",
      " 0.1764809  0.17635567 0.183469   0.18562304 0.18219161 0.18126487\n",
      " 0.17778334 0.18467126 0.18564809 0.19273638 0.19153413 0.19313713\n",
      " 0.19829681 0.19556669 0.19579211 0.19316218 0.20077646 0.19997495\n",
      " 0.19644333 0.20343143 0.20641202 0.20726362 0.21823419 0.2144521\n",
      " 0.21162179 0.21282405 0.20999374 0.20480902 0.20348153 0.20771446\n",
      " 0.20964308 0.21001879 0.21828428 0.21763306 0.2210645  0.21613024\n",
      " 0.21314966 0.21517846 0.21735755 0.21956168 0.21635567 0.22289292\n",
      " 0.22444584 0.22232937 0.21475266 0.21122104 0.18822793 0.18036318\n",
      " 0.18274264 0.17871008 0.17815905 0.1777082  0.18189105 0.17685661\n",
      " 0.17465247 0.1682154  0.16944271 0.17282405 0.17630557 0.18604884\n",
      " 0.17417658 0.17976205 0.18371947 0.19356293 0.20240451 0.20295554\n",
      " 0.20693801 0.20753914 0.19053225 0.17713212 0.17868503 0.19490492\n",
      " 0.19390085 0.19301178 0.19231005 0.19174364]\n",
      "5 day output [[0.1912428]]\n",
      "6 day input [0.14256731 0.15421415 0.15739512 0.15716969 0.15453976 0.15180964\n",
      " 0.14765185 0.16713838 0.16696306 0.16262993 0.16710081 0.16758923\n",
      " 0.16463369 0.16338134 0.16338134 0.16493425 0.17084534 0.17112085\n",
      " 0.16871634 0.16210394 0.16280526 0.16568566 0.17179712 0.1764809\n",
      " 0.17635567 0.183469   0.18562304 0.18219161 0.18126487 0.17778334\n",
      " 0.18467126 0.18564809 0.19273638 0.19153413 0.19313713 0.19829681\n",
      " 0.19556669 0.19579211 0.19316218 0.20077646 0.19997495 0.19644333\n",
      " 0.20343143 0.20641202 0.20726362 0.21823419 0.2144521  0.21162179\n",
      " 0.21282405 0.20999374 0.20480902 0.20348153 0.20771446 0.20964308\n",
      " 0.21001879 0.21828428 0.21763306 0.2210645  0.21613024 0.21314966\n",
      " 0.21517846 0.21735755 0.21956168 0.21635567 0.22289292 0.22444584\n",
      " 0.22232937 0.21475266 0.21122104 0.18822793 0.18036318 0.18274264\n",
      " 0.17871008 0.17815905 0.1777082  0.18189105 0.17685661 0.17465247\n",
      " 0.1682154  0.16944271 0.17282405 0.17630557 0.18604884 0.17417658\n",
      " 0.17976205 0.18371947 0.19356293 0.20240451 0.20295554 0.20693801\n",
      " 0.20753914 0.19053225 0.17713212 0.17868503 0.19490492 0.19390085\n",
      " 0.19301178 0.19231005 0.19174364 0.1912428 ]\n",
      "6 day output [[0.19075641]]\n",
      "7 day input [0.15421415 0.15739512 0.15716969 0.15453976 0.15180964 0.14765185\n",
      " 0.16713838 0.16696306 0.16262993 0.16710081 0.16758923 0.16463369\n",
      " 0.16338134 0.16338134 0.16493425 0.17084534 0.17112085 0.16871634\n",
      " 0.16210394 0.16280526 0.16568566 0.17179712 0.1764809  0.17635567\n",
      " 0.183469   0.18562304 0.18219161 0.18126487 0.17778334 0.18467126\n",
      " 0.18564809 0.19273638 0.19153413 0.19313713 0.19829681 0.19556669\n",
      " 0.19579211 0.19316218 0.20077646 0.19997495 0.19644333 0.20343143\n",
      " 0.20641202 0.20726362 0.21823419 0.2144521  0.21162179 0.21282405\n",
      " 0.20999374 0.20480902 0.20348153 0.20771446 0.20964308 0.21001879\n",
      " 0.21828428 0.21763306 0.2210645  0.21613024 0.21314966 0.21517846\n",
      " 0.21735755 0.21956168 0.21635567 0.22289292 0.22444584 0.22232937\n",
      " 0.21475266 0.21122104 0.18822793 0.18036318 0.18274264 0.17871008\n",
      " 0.17815905 0.1777082  0.18189105 0.17685661 0.17465247 0.1682154\n",
      " 0.16944271 0.17282405 0.17630557 0.18604884 0.17417658 0.17976205\n",
      " 0.18371947 0.19356293 0.20240451 0.20295554 0.20693801 0.20753914\n",
      " 0.19053225 0.17713212 0.17868503 0.19490492 0.19390085 0.19301178\n",
      " 0.19231005 0.19174364 0.1912428  0.19075641]\n",
      "7 day output [[0.19025734]]\n",
      "8 day input [0.15739512 0.15716969 0.15453976 0.15180964 0.14765185 0.16713838\n",
      " 0.16696306 0.16262993 0.16710081 0.16758923 0.16463369 0.16338134\n",
      " 0.16338134 0.16493425 0.17084534 0.17112085 0.16871634 0.16210394\n",
      " 0.16280526 0.16568566 0.17179712 0.1764809  0.17635567 0.183469\n",
      " 0.18562304 0.18219161 0.18126487 0.17778334 0.18467126 0.18564809\n",
      " 0.19273638 0.19153413 0.19313713 0.19829681 0.19556669 0.19579211\n",
      " 0.19316218 0.20077646 0.19997495 0.19644333 0.20343143 0.20641202\n",
      " 0.20726362 0.21823419 0.2144521  0.21162179 0.21282405 0.20999374\n",
      " 0.20480902 0.20348153 0.20771446 0.20964308 0.21001879 0.21828428\n",
      " 0.21763306 0.2210645  0.21613024 0.21314966 0.21517846 0.21735755\n",
      " 0.21956168 0.21635567 0.22289292 0.22444584 0.22232937 0.21475266\n",
      " 0.21122104 0.18822793 0.18036318 0.18274264 0.17871008 0.17815905\n",
      " 0.1777082  0.18189105 0.17685661 0.17465247 0.1682154  0.16944271\n",
      " 0.17282405 0.17630557 0.18604884 0.17417658 0.17976205 0.18371947\n",
      " 0.19356293 0.20240451 0.20295554 0.20693801 0.20753914 0.19053225\n",
      " 0.17713212 0.17868503 0.19490492 0.19390085 0.19301178 0.19231005\n",
      " 0.19174364 0.1912428  0.19075641 0.19025734]\n"
     ]
    },
    {
     "name": "stdout",
     "output_type": "stream",
     "text": [
      "8 day output [[0.18973729]]\n",
      "9 day input [0.15716969 0.15453976 0.15180964 0.14765185 0.16713838 0.16696306\n",
      " 0.16262993 0.16710081 0.16758923 0.16463369 0.16338134 0.16338134\n",
      " 0.16493425 0.17084534 0.17112085 0.16871634 0.16210394 0.16280526\n",
      " 0.16568566 0.17179712 0.1764809  0.17635567 0.183469   0.18562304\n",
      " 0.18219161 0.18126487 0.17778334 0.18467126 0.18564809 0.19273638\n",
      " 0.19153413 0.19313713 0.19829681 0.19556669 0.19579211 0.19316218\n",
      " 0.20077646 0.19997495 0.19644333 0.20343143 0.20641202 0.20726362\n",
      " 0.21823419 0.2144521  0.21162179 0.21282405 0.20999374 0.20480902\n",
      " 0.20348153 0.20771446 0.20964308 0.21001879 0.21828428 0.21763306\n",
      " 0.2210645  0.21613024 0.21314966 0.21517846 0.21735755 0.21956168\n",
      " 0.21635567 0.22289292 0.22444584 0.22232937 0.21475266 0.21122104\n",
      " 0.18822793 0.18036318 0.18274264 0.17871008 0.17815905 0.1777082\n",
      " 0.18189105 0.17685661 0.17465247 0.1682154  0.16944271 0.17282405\n",
      " 0.17630557 0.18604884 0.17417658 0.17976205 0.18371947 0.19356293\n",
      " 0.20240451 0.20295554 0.20693801 0.20753914 0.19053225 0.17713212\n",
      " 0.17868503 0.19490492 0.19390085 0.19301178 0.19231005 0.19174364\n",
      " 0.1912428  0.19075641 0.19025734 0.18973729]\n",
      "9 day output [[0.18919954]]\n",
      "10 day input [0.15453976 0.15180964 0.14765185 0.16713838 0.16696306 0.16262993\n",
      " 0.16710081 0.16758923 0.16463369 0.16338134 0.16338134 0.16493425\n",
      " 0.17084534 0.17112085 0.16871634 0.16210394 0.16280526 0.16568566\n",
      " 0.17179712 0.1764809  0.17635567 0.183469   0.18562304 0.18219161\n",
      " 0.18126487 0.17778334 0.18467126 0.18564809 0.19273638 0.19153413\n",
      " 0.19313713 0.19829681 0.19556669 0.19579211 0.19316218 0.20077646\n",
      " 0.19997495 0.19644333 0.20343143 0.20641202 0.20726362 0.21823419\n",
      " 0.2144521  0.21162179 0.21282405 0.20999374 0.20480902 0.20348153\n",
      " 0.20771446 0.20964308 0.21001879 0.21828428 0.21763306 0.2210645\n",
      " 0.21613024 0.21314966 0.21517846 0.21735755 0.21956168 0.21635567\n",
      " 0.22289292 0.22444584 0.22232937 0.21475266 0.21122104 0.18822793\n",
      " 0.18036318 0.18274264 0.17871008 0.17815905 0.1777082  0.18189105\n",
      " 0.17685661 0.17465247 0.1682154  0.16944271 0.17282405 0.17630557\n",
      " 0.18604884 0.17417658 0.17976205 0.18371947 0.19356293 0.20240451\n",
      " 0.20295554 0.20693801 0.20753914 0.19053225 0.17713212 0.17868503\n",
      " 0.19490492 0.19390085 0.19301178 0.19231005 0.19174364 0.1912428\n",
      " 0.19075641 0.19025734 0.18973729 0.18919954]\n",
      "10 day output [[0.18865283]]\n",
      "11 day input [0.15180964 0.14765185 0.16713838 0.16696306 0.16262993 0.16710081\n",
      " 0.16758923 0.16463369 0.16338134 0.16338134 0.16493425 0.17084534\n",
      " 0.17112085 0.16871634 0.16210394 0.16280526 0.16568566 0.17179712\n",
      " 0.1764809  0.17635567 0.183469   0.18562304 0.18219161 0.18126487\n",
      " 0.17778334 0.18467126 0.18564809 0.19273638 0.19153413 0.19313713\n",
      " 0.19829681 0.19556669 0.19579211 0.19316218 0.20077646 0.19997495\n",
      " 0.19644333 0.20343143 0.20641202 0.20726362 0.21823419 0.2144521\n",
      " 0.21162179 0.21282405 0.20999374 0.20480902 0.20348153 0.20771446\n",
      " 0.20964308 0.21001879 0.21828428 0.21763306 0.2210645  0.21613024\n",
      " 0.21314966 0.21517846 0.21735755 0.21956168 0.21635567 0.22289292\n",
      " 0.22444584 0.22232937 0.21475266 0.21122104 0.18822793 0.18036318\n",
      " 0.18274264 0.17871008 0.17815905 0.1777082  0.18189105 0.17685661\n",
      " 0.17465247 0.1682154  0.16944271 0.17282405 0.17630557 0.18604884\n",
      " 0.17417658 0.17976205 0.18371947 0.19356293 0.20240451 0.20295554\n",
      " 0.20693801 0.20753914 0.19053225 0.17713212 0.17868503 0.19490492\n",
      " 0.19390085 0.19301178 0.19231005 0.19174364 0.1912428  0.19075641\n",
      " 0.19025734 0.18973729 0.18919954 0.18865283]\n",
      "11 day output [[0.18810752]]\n",
      "12 day input [0.14765185 0.16713838 0.16696306 0.16262993 0.16710081 0.16758923\n",
      " 0.16463369 0.16338134 0.16338134 0.16493425 0.17084534 0.17112085\n",
      " 0.16871634 0.16210394 0.16280526 0.16568566 0.17179712 0.1764809\n",
      " 0.17635567 0.183469   0.18562304 0.18219161 0.18126487 0.17778334\n",
      " 0.18467126 0.18564809 0.19273638 0.19153413 0.19313713 0.19829681\n",
      " 0.19556669 0.19579211 0.19316218 0.20077646 0.19997495 0.19644333\n",
      " 0.20343143 0.20641202 0.20726362 0.21823419 0.2144521  0.21162179\n",
      " 0.21282405 0.20999374 0.20480902 0.20348153 0.20771446 0.20964308\n",
      " 0.21001879 0.21828428 0.21763306 0.2210645  0.21613024 0.21314966\n",
      " 0.21517846 0.21735755 0.21956168 0.21635567 0.22289292 0.22444584\n",
      " 0.22232937 0.21475266 0.21122104 0.18822793 0.18036318 0.18274264\n",
      " 0.17871008 0.17815905 0.1777082  0.18189105 0.17685661 0.17465247\n",
      " 0.1682154  0.16944271 0.17282405 0.17630557 0.18604884 0.17417658\n",
      " 0.17976205 0.18371947 0.19356293 0.20240451 0.20295554 0.20693801\n",
      " 0.20753914 0.19053225 0.17713212 0.17868503 0.19490492 0.19390085\n",
      " 0.19301178 0.19231005 0.19174364 0.1912428  0.19075641 0.19025734\n",
      " 0.18973729 0.18919954 0.18865283 0.18810752]\n",
      "12 day output [[0.18757327]]\n",
      "13 day input [0.16713838 0.16696306 0.16262993 0.16710081 0.16758923 0.16463369\n",
      " 0.16338134 0.16338134 0.16493425 0.17084534 0.17112085 0.16871634\n",
      " 0.16210394 0.16280526 0.16568566 0.17179712 0.1764809  0.17635567\n",
      " 0.183469   0.18562304 0.18219161 0.18126487 0.17778334 0.18467126\n",
      " 0.18564809 0.19273638 0.19153413 0.19313713 0.19829681 0.19556669\n",
      " 0.19579211 0.19316218 0.20077646 0.19997495 0.19644333 0.20343143\n",
      " 0.20641202 0.20726362 0.21823419 0.2144521  0.21162179 0.21282405\n",
      " 0.20999374 0.20480902 0.20348153 0.20771446 0.20964308 0.21001879\n",
      " 0.21828428 0.21763306 0.2210645  0.21613024 0.21314966 0.21517846\n",
      " 0.21735755 0.21956168 0.21635567 0.22289292 0.22444584 0.22232937\n",
      " 0.21475266 0.21122104 0.18822793 0.18036318 0.18274264 0.17871008\n",
      " 0.17815905 0.1777082  0.18189105 0.17685661 0.17465247 0.1682154\n",
      " 0.16944271 0.17282405 0.17630557 0.18604884 0.17417658 0.17976205\n",
      " 0.18371947 0.19356293 0.20240451 0.20295554 0.20693801 0.20753914\n",
      " 0.19053225 0.17713212 0.17868503 0.19490492 0.19390085 0.19301178\n",
      " 0.19231005 0.19174364 0.1912428  0.19075641 0.19025734 0.18973729\n",
      " 0.18919954 0.18865283 0.18810752 0.18757327]\n",
      "13 day output [[0.18705781]]\n",
      "14 day input [0.16696306 0.16262993 0.16710081 0.16758923 0.16463369 0.16338134\n",
      " 0.16338134 0.16493425 0.17084534 0.17112085 0.16871634 0.16210394\n",
      " 0.16280526 0.16568566 0.17179712 0.1764809  0.17635567 0.183469\n",
      " 0.18562304 0.18219161 0.18126487 0.17778334 0.18467126 0.18564809\n",
      " 0.19273638 0.19153413 0.19313713 0.19829681 0.19556669 0.19579211\n",
      " 0.19316218 0.20077646 0.19997495 0.19644333 0.20343143 0.20641202\n",
      " 0.20726362 0.21823419 0.2144521  0.21162179 0.21282405 0.20999374\n",
      " 0.20480902 0.20348153 0.20771446 0.20964308 0.21001879 0.21828428\n",
      " 0.21763306 0.2210645  0.21613024 0.21314966 0.21517846 0.21735755\n",
      " 0.21956168 0.21635567 0.22289292 0.22444584 0.22232937 0.21475266\n",
      " 0.21122104 0.18822793 0.18036318 0.18274264 0.17871008 0.17815905\n",
      " 0.1777082  0.18189105 0.17685661 0.17465247 0.1682154  0.16944271\n",
      " 0.17282405 0.17630557 0.18604884 0.17417658 0.17976205 0.18371947\n",
      " 0.19356293 0.20240451 0.20295554 0.20693801 0.20753914 0.19053225\n",
      " 0.17713212 0.17868503 0.19490492 0.19390085 0.19301178 0.19231005\n",
      " 0.19174364 0.1912428  0.19075641 0.19025734 0.18973729 0.18919954\n",
      " 0.18865283 0.18810752 0.18757327 0.18705781]\n",
      "14 day output [[0.18656646]]\n",
      "15 day input [0.16262993 0.16710081 0.16758923 0.16463369 0.16338134 0.16338134\n",
      " 0.16493425 0.17084534 0.17112085 0.16871634 0.16210394 0.16280526\n",
      " 0.16568566 0.17179712 0.1764809  0.17635567 0.183469   0.18562304\n",
      " 0.18219161 0.18126487 0.17778334 0.18467126 0.18564809 0.19273638\n",
      " 0.19153413 0.19313713 0.19829681 0.19556669 0.19579211 0.19316218\n",
      " 0.20077646 0.19997495 0.19644333 0.20343143 0.20641202 0.20726362\n",
      " 0.21823419 0.2144521  0.21162179 0.21282405 0.20999374 0.20480902\n",
      " 0.20348153 0.20771446 0.20964308 0.21001879 0.21828428 0.21763306\n",
      " 0.2210645  0.21613024 0.21314966 0.21517846 0.21735755 0.21956168\n",
      " 0.21635567 0.22289292 0.22444584 0.22232937 0.21475266 0.21122104\n",
      " 0.18822793 0.18036318 0.18274264 0.17871008 0.17815905 0.1777082\n",
      " 0.18189105 0.17685661 0.17465247 0.1682154  0.16944271 0.17282405\n",
      " 0.17630557 0.18604884 0.17417658 0.17976205 0.18371947 0.19356293\n",
      " 0.20240451 0.20295554 0.20693801 0.20753914 0.19053225 0.17713212\n",
      " 0.17868503 0.19490492 0.19390085 0.19301178 0.19231005 0.19174364\n",
      " 0.1912428  0.19075641 0.19025734 0.18973729 0.18919954 0.18865283\n",
      " 0.18810752 0.18757327 0.18705781 0.18656646]\n",
      "15 day output [[0.18610273]]\n",
      "16 day input [0.16710081 0.16758923 0.16463369 0.16338134 0.16338134 0.16493425\n",
      " 0.17084534 0.17112085 0.16871634 0.16210394 0.16280526 0.16568566\n",
      " 0.17179712 0.1764809  0.17635567 0.183469   0.18562304 0.18219161\n",
      " 0.18126487 0.17778334 0.18467126 0.18564809 0.19273638 0.19153413\n",
      " 0.19313713 0.19829681 0.19556669 0.19579211 0.19316218 0.20077646\n",
      " 0.19997495 0.19644333 0.20343143 0.20641202 0.20726362 0.21823419\n",
      " 0.2144521  0.21162179 0.21282405 0.20999374 0.20480902 0.20348153\n",
      " 0.20771446 0.20964308 0.21001879 0.21828428 0.21763306 0.2210645\n",
      " 0.21613024 0.21314966 0.21517846 0.21735755 0.21956168 0.21635567\n",
      " 0.22289292 0.22444584 0.22232937 0.21475266 0.21122104 0.18822793\n",
      " 0.18036318 0.18274264 0.17871008 0.17815905 0.1777082  0.18189105\n",
      " 0.17685661 0.17465247 0.1682154  0.16944271 0.17282405 0.17630557\n",
      " 0.18604884 0.17417658 0.17976205 0.18371947 0.19356293 0.20240451\n",
      " 0.20295554 0.20693801 0.20753914 0.19053225 0.17713212 0.17868503\n",
      " 0.19490492 0.19390085 0.19301178 0.19231005 0.19174364 0.1912428\n",
      " 0.19075641 0.19025734 0.18973729 0.18919954 0.18865283 0.18810752\n",
      " 0.18757327 0.18705781 0.18656646 0.18610273]\n"
     ]
    },
    {
     "name": "stdout",
     "output_type": "stream",
     "text": [
      "16 day output [[0.18566799]]\n",
      "17 day input [0.16758923 0.16463369 0.16338134 0.16338134 0.16493425 0.17084534\n",
      " 0.17112085 0.16871634 0.16210394 0.16280526 0.16568566 0.17179712\n",
      " 0.1764809  0.17635567 0.183469   0.18562304 0.18219161 0.18126487\n",
      " 0.17778334 0.18467126 0.18564809 0.19273638 0.19153413 0.19313713\n",
      " 0.19829681 0.19556669 0.19579211 0.19316218 0.20077646 0.19997495\n",
      " 0.19644333 0.20343143 0.20641202 0.20726362 0.21823419 0.2144521\n",
      " 0.21162179 0.21282405 0.20999374 0.20480902 0.20348153 0.20771446\n",
      " 0.20964308 0.21001879 0.21828428 0.21763306 0.2210645  0.21613024\n",
      " 0.21314966 0.21517846 0.21735755 0.21956168 0.21635567 0.22289292\n",
      " 0.22444584 0.22232937 0.21475266 0.21122104 0.18822793 0.18036318\n",
      " 0.18274264 0.17871008 0.17815905 0.1777082  0.18189105 0.17685661\n",
      " 0.17465247 0.1682154  0.16944271 0.17282405 0.17630557 0.18604884\n",
      " 0.17417658 0.17976205 0.18371947 0.19356293 0.20240451 0.20295554\n",
      " 0.20693801 0.20753914 0.19053225 0.17713212 0.17868503 0.19490492\n",
      " 0.19390085 0.19301178 0.19231005 0.19174364 0.1912428  0.19075641\n",
      " 0.19025734 0.18973729 0.18919954 0.18865283 0.18810752 0.18757327\n",
      " 0.18705781 0.18656646 0.18610273 0.18566799]\n",
      "17 day output [[0.18526193]]\n",
      "18 day input [0.16463369 0.16338134 0.16338134 0.16493425 0.17084534 0.17112085\n",
      " 0.16871634 0.16210394 0.16280526 0.16568566 0.17179712 0.1764809\n",
      " 0.17635567 0.183469   0.18562304 0.18219161 0.18126487 0.17778334\n",
      " 0.18467126 0.18564809 0.19273638 0.19153413 0.19313713 0.19829681\n",
      " 0.19556669 0.19579211 0.19316218 0.20077646 0.19997495 0.19644333\n",
      " 0.20343143 0.20641202 0.20726362 0.21823419 0.2144521  0.21162179\n",
      " 0.21282405 0.20999374 0.20480902 0.20348153 0.20771446 0.20964308\n",
      " 0.21001879 0.21828428 0.21763306 0.2210645  0.21613024 0.21314966\n",
      " 0.21517846 0.21735755 0.21956168 0.21635567 0.22289292 0.22444584\n",
      " 0.22232937 0.21475266 0.21122104 0.18822793 0.18036318 0.18274264\n",
      " 0.17871008 0.17815905 0.1777082  0.18189105 0.17685661 0.17465247\n",
      " 0.1682154  0.16944271 0.17282405 0.17630557 0.18604884 0.17417658\n",
      " 0.17976205 0.18371947 0.19356293 0.20240451 0.20295554 0.20693801\n",
      " 0.20753914 0.19053225 0.17713212 0.17868503 0.19490492 0.19390085\n",
      " 0.19301178 0.19231005 0.19174364 0.1912428  0.19075641 0.19025734\n",
      " 0.18973729 0.18919954 0.18865283 0.18810752 0.18757327 0.18705781\n",
      " 0.18656646 0.18610273 0.18566799 0.18526193]\n",
      "18 day output [[0.18488303]]\n",
      "19 day input [0.16338134 0.16338134 0.16493425 0.17084534 0.17112085 0.16871634\n",
      " 0.16210394 0.16280526 0.16568566 0.17179712 0.1764809  0.17635567\n",
      " 0.183469   0.18562304 0.18219161 0.18126487 0.17778334 0.18467126\n",
      " 0.18564809 0.19273638 0.19153413 0.19313713 0.19829681 0.19556669\n",
      " 0.19579211 0.19316218 0.20077646 0.19997495 0.19644333 0.20343143\n",
      " 0.20641202 0.20726362 0.21823419 0.2144521  0.21162179 0.21282405\n",
      " 0.20999374 0.20480902 0.20348153 0.20771446 0.20964308 0.21001879\n",
      " 0.21828428 0.21763306 0.2210645  0.21613024 0.21314966 0.21517846\n",
      " 0.21735755 0.21956168 0.21635567 0.22289292 0.22444584 0.22232937\n",
      " 0.21475266 0.21122104 0.18822793 0.18036318 0.18274264 0.17871008\n",
      " 0.17815905 0.1777082  0.18189105 0.17685661 0.17465247 0.1682154\n",
      " 0.16944271 0.17282405 0.17630557 0.18604884 0.17417658 0.17976205\n",
      " 0.18371947 0.19356293 0.20240451 0.20295554 0.20693801 0.20753914\n",
      " 0.19053225 0.17713212 0.17868503 0.19490492 0.19390085 0.19301178\n",
      " 0.19231005 0.19174364 0.1912428  0.19075641 0.19025734 0.18973729\n",
      " 0.18919954 0.18865283 0.18810752 0.18757327 0.18705781 0.18656646\n",
      " 0.18610273 0.18566799 0.18526193 0.18488303]\n",
      "19 day output [[0.18452904]]\n",
      "20 day input [0.16338134 0.16493425 0.17084534 0.17112085 0.16871634 0.16210394\n",
      " 0.16280526 0.16568566 0.17179712 0.1764809  0.17635567 0.183469\n",
      " 0.18562304 0.18219161 0.18126487 0.17778334 0.18467126 0.18564809\n",
      " 0.19273638 0.19153413 0.19313713 0.19829681 0.19556669 0.19579211\n",
      " 0.19316218 0.20077646 0.19997495 0.19644333 0.20343143 0.20641202\n",
      " 0.20726362 0.21823419 0.2144521  0.21162179 0.21282405 0.20999374\n",
      " 0.20480902 0.20348153 0.20771446 0.20964308 0.21001879 0.21828428\n",
      " 0.21763306 0.2210645  0.21613024 0.21314966 0.21517846 0.21735755\n",
      " 0.21956168 0.21635567 0.22289292 0.22444584 0.22232937 0.21475266\n",
      " 0.21122104 0.18822793 0.18036318 0.18274264 0.17871008 0.17815905\n",
      " 0.1777082  0.18189105 0.17685661 0.17465247 0.1682154  0.16944271\n",
      " 0.17282405 0.17630557 0.18604884 0.17417658 0.17976205 0.18371947\n",
      " 0.19356293 0.20240451 0.20295554 0.20693801 0.20753914 0.19053225\n",
      " 0.17713212 0.17868503 0.19490492 0.19390085 0.19301178 0.19231005\n",
      " 0.19174364 0.1912428  0.19075641 0.19025734 0.18973729 0.18919954\n",
      " 0.18865283 0.18810752 0.18757327 0.18705781 0.18656646 0.18610273\n",
      " 0.18566799 0.18526193 0.18488303 0.18452904]\n",
      "20 day output [[0.18419686]]\n",
      "21 day input [0.16493425 0.17084534 0.17112085 0.16871634 0.16210394 0.16280526\n",
      " 0.16568566 0.17179712 0.1764809  0.17635567 0.183469   0.18562304\n",
      " 0.18219161 0.18126487 0.17778334 0.18467126 0.18564809 0.19273638\n",
      " 0.19153413 0.19313713 0.19829681 0.19556669 0.19579211 0.19316218\n",
      " 0.20077646 0.19997495 0.19644333 0.20343143 0.20641202 0.20726362\n",
      " 0.21823419 0.2144521  0.21162179 0.21282405 0.20999374 0.20480902\n",
      " 0.20348153 0.20771446 0.20964308 0.21001879 0.21828428 0.21763306\n",
      " 0.2210645  0.21613024 0.21314966 0.21517846 0.21735755 0.21956168\n",
      " 0.21635567 0.22289292 0.22444584 0.22232937 0.21475266 0.21122104\n",
      " 0.18822793 0.18036318 0.18274264 0.17871008 0.17815905 0.1777082\n",
      " 0.18189105 0.17685661 0.17465247 0.1682154  0.16944271 0.17282405\n",
      " 0.17630557 0.18604884 0.17417658 0.17976205 0.18371947 0.19356293\n",
      " 0.20240451 0.20295554 0.20693801 0.20753914 0.19053225 0.17713212\n",
      " 0.17868503 0.19490492 0.19390085 0.19301178 0.19231005 0.19174364\n",
      " 0.1912428  0.19075641 0.19025734 0.18973729 0.18919954 0.18865283\n",
      " 0.18810752 0.18757327 0.18705781 0.18656646 0.18610273 0.18566799\n",
      " 0.18526193 0.18488303 0.18452904 0.18419686]\n",
      "21 day output [[0.18388319]]\n",
      "22 day input [0.17084534 0.17112085 0.16871634 0.16210394 0.16280526 0.16568566\n",
      " 0.17179712 0.1764809  0.17635567 0.183469   0.18562304 0.18219161\n",
      " 0.18126487 0.17778334 0.18467126 0.18564809 0.19273638 0.19153413\n",
      " 0.19313713 0.19829681 0.19556669 0.19579211 0.19316218 0.20077646\n",
      " 0.19997495 0.19644333 0.20343143 0.20641202 0.20726362 0.21823419\n",
      " 0.2144521  0.21162179 0.21282405 0.20999374 0.20480902 0.20348153\n",
      " 0.20771446 0.20964308 0.21001879 0.21828428 0.21763306 0.2210645\n",
      " 0.21613024 0.21314966 0.21517846 0.21735755 0.21956168 0.21635567\n",
      " 0.22289292 0.22444584 0.22232937 0.21475266 0.21122104 0.18822793\n",
      " 0.18036318 0.18274264 0.17871008 0.17815905 0.1777082  0.18189105\n",
      " 0.17685661 0.17465247 0.1682154  0.16944271 0.17282405 0.17630557\n",
      " 0.18604884 0.17417658 0.17976205 0.18371947 0.19356293 0.20240451\n",
      " 0.20295554 0.20693801 0.20753914 0.19053225 0.17713212 0.17868503\n",
      " 0.19490492 0.19390085 0.19301178 0.19231005 0.19174364 0.1912428\n",
      " 0.19075641 0.19025734 0.18973729 0.18919954 0.18865283 0.18810752\n",
      " 0.18757327 0.18705781 0.18656646 0.18610273 0.18566799 0.18526193\n",
      " 0.18488303 0.18452904 0.18419686 0.18388319]\n",
      "22 day output [[0.18358453]]\n",
      "23 day input [0.17112085 0.16871634 0.16210394 0.16280526 0.16568566 0.17179712\n",
      " 0.1764809  0.17635567 0.183469   0.18562304 0.18219161 0.18126487\n",
      " 0.17778334 0.18467126 0.18564809 0.19273638 0.19153413 0.19313713\n",
      " 0.19829681 0.19556669 0.19579211 0.19316218 0.20077646 0.19997495\n",
      " 0.19644333 0.20343143 0.20641202 0.20726362 0.21823419 0.2144521\n",
      " 0.21162179 0.21282405 0.20999374 0.20480902 0.20348153 0.20771446\n",
      " 0.20964308 0.21001879 0.21828428 0.21763306 0.2210645  0.21613024\n",
      " 0.21314966 0.21517846 0.21735755 0.21956168 0.21635567 0.22289292\n",
      " 0.22444584 0.22232937 0.21475266 0.21122104 0.18822793 0.18036318\n",
      " 0.18274264 0.17871008 0.17815905 0.1777082  0.18189105 0.17685661\n",
      " 0.17465247 0.1682154  0.16944271 0.17282405 0.17630557 0.18604884\n",
      " 0.17417658 0.17976205 0.18371947 0.19356293 0.20240451 0.20295554\n",
      " 0.20693801 0.20753914 0.19053225 0.17713212 0.17868503 0.19490492\n",
      " 0.19390085 0.19301178 0.19231005 0.19174364 0.1912428  0.19075641\n",
      " 0.19025734 0.18973729 0.18919954 0.18865283 0.18810752 0.18757327\n",
      " 0.18705781 0.18656646 0.18610273 0.18566799 0.18526193 0.18488303\n",
      " 0.18452904 0.18419686 0.18388319 0.18358453]\n",
      "23 day output [[0.18329744]]\n",
      "24 day input [0.16871634 0.16210394 0.16280526 0.16568566 0.17179712 0.1764809\n",
      " 0.17635567 0.183469   0.18562304 0.18219161 0.18126487 0.17778334\n",
      " 0.18467126 0.18564809 0.19273638 0.19153413 0.19313713 0.19829681\n",
      " 0.19556669 0.19579211 0.19316218 0.20077646 0.19997495 0.19644333\n",
      " 0.20343143 0.20641202 0.20726362 0.21823419 0.2144521  0.21162179\n",
      " 0.21282405 0.20999374 0.20480902 0.20348153 0.20771446 0.20964308\n",
      " 0.21001879 0.21828428 0.21763306 0.2210645  0.21613024 0.21314966\n",
      " 0.21517846 0.21735755 0.21956168 0.21635567 0.22289292 0.22444584\n",
      " 0.22232937 0.21475266 0.21122104 0.18822793 0.18036318 0.18274264\n",
      " 0.17871008 0.17815905 0.1777082  0.18189105 0.17685661 0.17465247\n",
      " 0.1682154  0.16944271 0.17282405 0.17630557 0.18604884 0.17417658\n",
      " 0.17976205 0.18371947 0.19356293 0.20240451 0.20295554 0.20693801\n",
      " 0.20753914 0.19053225 0.17713212 0.17868503 0.19490492 0.19390085\n",
      " 0.19301178 0.19231005 0.19174364 0.1912428  0.19075641 0.19025734\n",
      " 0.18973729 0.18919954 0.18865283 0.18810752 0.18757327 0.18705781\n",
      " 0.18656646 0.18610273 0.18566799 0.18526193 0.18488303 0.18452904\n",
      " 0.18419686 0.18388319 0.18358453 0.18329744]\n"
     ]
    },
    {
     "name": "stdout",
     "output_type": "stream",
     "text": [
      "24 day output [[0.1830186]]\n",
      "25 day input [0.16210394 0.16280526 0.16568566 0.17179712 0.1764809  0.17635567\n",
      " 0.183469   0.18562304 0.18219161 0.18126487 0.17778334 0.18467126\n",
      " 0.18564809 0.19273638 0.19153413 0.19313713 0.19829681 0.19556669\n",
      " 0.19579211 0.19316218 0.20077646 0.19997495 0.19644333 0.20343143\n",
      " 0.20641202 0.20726362 0.21823419 0.2144521  0.21162179 0.21282405\n",
      " 0.20999374 0.20480902 0.20348153 0.20771446 0.20964308 0.21001879\n",
      " 0.21828428 0.21763306 0.2210645  0.21613024 0.21314966 0.21517846\n",
      " 0.21735755 0.21956168 0.21635567 0.22289292 0.22444584 0.22232937\n",
      " 0.21475266 0.21122104 0.18822793 0.18036318 0.18274264 0.17871008\n",
      " 0.17815905 0.1777082  0.18189105 0.17685661 0.17465247 0.1682154\n",
      " 0.16944271 0.17282405 0.17630557 0.18604884 0.17417658 0.17976205\n",
      " 0.18371947 0.19356293 0.20240451 0.20295554 0.20693801 0.20753914\n",
      " 0.19053225 0.17713212 0.17868503 0.19490492 0.19390085 0.19301178\n",
      " 0.19231005 0.19174364 0.1912428  0.19075641 0.19025734 0.18973729\n",
      " 0.18919954 0.18865283 0.18810752 0.18757327 0.18705781 0.18656646\n",
      " 0.18610273 0.18566799 0.18526193 0.18488303 0.18452904 0.18419686\n",
      " 0.18388319 0.18358453 0.18329744 0.18301859]\n",
      "25 day output [[0.182745]]\n",
      "26 day input [0.16280526 0.16568566 0.17179712 0.1764809  0.17635567 0.183469\n",
      " 0.18562304 0.18219161 0.18126487 0.17778334 0.18467126 0.18564809\n",
      " 0.19273638 0.19153413 0.19313713 0.19829681 0.19556669 0.19579211\n",
      " 0.19316218 0.20077646 0.19997495 0.19644333 0.20343143 0.20641202\n",
      " 0.20726362 0.21823419 0.2144521  0.21162179 0.21282405 0.20999374\n",
      " 0.20480902 0.20348153 0.20771446 0.20964308 0.21001879 0.21828428\n",
      " 0.21763306 0.2210645  0.21613024 0.21314966 0.21517846 0.21735755\n",
      " 0.21956168 0.21635567 0.22289292 0.22444584 0.22232937 0.21475266\n",
      " 0.21122104 0.18822793 0.18036318 0.18274264 0.17871008 0.17815905\n",
      " 0.1777082  0.18189105 0.17685661 0.17465247 0.1682154  0.16944271\n",
      " 0.17282405 0.17630557 0.18604884 0.17417658 0.17976205 0.18371947\n",
      " 0.19356293 0.20240451 0.20295554 0.20693801 0.20753914 0.19053225\n",
      " 0.17713212 0.17868503 0.19490492 0.19390085 0.19301178 0.19231005\n",
      " 0.19174364 0.1912428  0.19075641 0.19025734 0.18973729 0.18919954\n",
      " 0.18865283 0.18810752 0.18757327 0.18705781 0.18656646 0.18610273\n",
      " 0.18566799 0.18526193 0.18488303 0.18452904 0.18419686 0.18388319\n",
      " 0.18358453 0.18329744 0.18301859 0.18274499]\n",
      "26 day output [[0.18247378]]\n",
      "27 day input [0.16568566 0.17179712 0.1764809  0.17635567 0.183469   0.18562304\n",
      " 0.18219161 0.18126487 0.17778334 0.18467126 0.18564809 0.19273638\n",
      " 0.19153413 0.19313713 0.19829681 0.19556669 0.19579211 0.19316218\n",
      " 0.20077646 0.19997495 0.19644333 0.20343143 0.20641202 0.20726362\n",
      " 0.21823419 0.2144521  0.21162179 0.21282405 0.20999374 0.20480902\n",
      " 0.20348153 0.20771446 0.20964308 0.21001879 0.21828428 0.21763306\n",
      " 0.2210645  0.21613024 0.21314966 0.21517846 0.21735755 0.21956168\n",
      " 0.21635567 0.22289292 0.22444584 0.22232937 0.21475266 0.21122104\n",
      " 0.18822793 0.18036318 0.18274264 0.17871008 0.17815905 0.1777082\n",
      " 0.18189105 0.17685661 0.17465247 0.1682154  0.16944271 0.17282405\n",
      " 0.17630557 0.18604884 0.17417658 0.17976205 0.18371947 0.19356293\n",
      " 0.20240451 0.20295554 0.20693801 0.20753914 0.19053225 0.17713212\n",
      " 0.17868503 0.19490492 0.19390085 0.19301178 0.19231005 0.19174364\n",
      " 0.1912428  0.19075641 0.19025734 0.18973729 0.18919954 0.18865283\n",
      " 0.18810752 0.18757327 0.18705781 0.18656646 0.18610273 0.18566799\n",
      " 0.18526193 0.18488303 0.18452904 0.18419686 0.18388319 0.18358453\n",
      " 0.18329744 0.18301859 0.18274499 0.18247378]\n",
      "27 day output [[0.18220252]]\n",
      "28 day input [0.17179712 0.1764809  0.17635567 0.183469   0.18562304 0.18219161\n",
      " 0.18126487 0.17778334 0.18467126 0.18564809 0.19273638 0.19153413\n",
      " 0.19313713 0.19829681 0.19556669 0.19579211 0.19316218 0.20077646\n",
      " 0.19997495 0.19644333 0.20343143 0.20641202 0.20726362 0.21823419\n",
      " 0.2144521  0.21162179 0.21282405 0.20999374 0.20480902 0.20348153\n",
      " 0.20771446 0.20964308 0.21001879 0.21828428 0.21763306 0.2210645\n",
      " 0.21613024 0.21314966 0.21517846 0.21735755 0.21956168 0.21635567\n",
      " 0.22289292 0.22444584 0.22232937 0.21475266 0.21122104 0.18822793\n",
      " 0.18036318 0.18274264 0.17871008 0.17815905 0.1777082  0.18189105\n",
      " 0.17685661 0.17465247 0.1682154  0.16944271 0.17282405 0.17630557\n",
      " 0.18604884 0.17417658 0.17976205 0.18371947 0.19356293 0.20240451\n",
      " 0.20295554 0.20693801 0.20753914 0.19053225 0.17713212 0.17868503\n",
      " 0.19490492 0.19390085 0.19301178 0.19231005 0.19174364 0.1912428\n",
      " 0.19075641 0.19025734 0.18973729 0.18919954 0.18865283 0.18810752\n",
      " 0.18757327 0.18705781 0.18656646 0.18610273 0.18566799 0.18526193\n",
      " 0.18488303 0.18452904 0.18419686 0.18388319 0.18358453 0.18329744\n",
      " 0.18301859 0.18274499 0.18247378 0.18220252]\n",
      "28 day output [[0.18192902]]\n",
      "29 day input [0.1764809  0.17635567 0.183469   0.18562304 0.18219161 0.18126487\n",
      " 0.17778334 0.18467126 0.18564809 0.19273638 0.19153413 0.19313713\n",
      " 0.19829681 0.19556669 0.19579211 0.19316218 0.20077646 0.19997495\n",
      " 0.19644333 0.20343143 0.20641202 0.20726362 0.21823419 0.2144521\n",
      " 0.21162179 0.21282405 0.20999374 0.20480902 0.20348153 0.20771446\n",
      " 0.20964308 0.21001879 0.21828428 0.21763306 0.2210645  0.21613024\n",
      " 0.21314966 0.21517846 0.21735755 0.21956168 0.21635567 0.22289292\n",
      " 0.22444584 0.22232937 0.21475266 0.21122104 0.18822793 0.18036318\n",
      " 0.18274264 0.17871008 0.17815905 0.1777082  0.18189105 0.17685661\n",
      " 0.17465247 0.1682154  0.16944271 0.17282405 0.17630557 0.18604884\n",
      " 0.17417658 0.17976205 0.18371947 0.19356293 0.20240451 0.20295554\n",
      " 0.20693801 0.20753914 0.19053225 0.17713212 0.17868503 0.19490492\n",
      " 0.19390085 0.19301178 0.19231005 0.19174364 0.1912428  0.19075641\n",
      " 0.19025734 0.18973729 0.18919954 0.18865283 0.18810752 0.18757327\n",
      " 0.18705781 0.18656646 0.18610273 0.18566799 0.18526193 0.18488303\n",
      " 0.18452904 0.18419686 0.18388319 0.18358453 0.18329744 0.18301859\n",
      " 0.18274499 0.18247378 0.18220252 0.18192902]\n",
      "29 day output [[0.18165159]]\n"
     ]
    }
   ],
   "source": [
    "from numpy import array\n",
    "\n",
    "output=[]\n",
    "n_steps=100\n",
    "i=0\n",
    "while(i<30):\n",
    "    \n",
    "    if(len(temp_input)>100):\n",
    "        #print(temp_input)\n",
    "        x_input=np.array(temp_input[1:])\n",
    "        print(\"{} day input {}\".format(i,x_input))\n",
    "        x_input=x_input.reshape(1,-1)\n",
    "        x_input = x_input.reshape((1, n_steps, 1))\n",
    "        #print(x_input)\n",
    "        yhat = model.predict(x_input, verbose=0)\n",
    "        print(\"{} day output {}\".format(i,yhat))\n",
    "        temp_input.extend(yhat[0].tolist())\n",
    "        temp_input=temp_input[1:]\n",
    "        #print(temp_input)\n",
    "        output.extend(yhat.tolist())\n",
    "        i=i+1\n",
    "    else:\n",
    "        x_input = x_input.reshape((1, n_steps,1))\n",
    "        yhat = model.predict(x_input, verbose=0)\n",
    "        print(yhat[0])\n",
    "        temp_input.extend(yhat[0].tolist())\n",
    "        print(len(temp_input))\n",
    "        output.extend(yhat.tolist())\n",
    "        i=i+1\n",
    "    \n",
    "\n",
    " "
   ]
  },
  {
   "cell_type": "code",
   "execution_count": 45,
   "id": "2ab6f6ce",
   "metadata": {},
   "outputs": [],
   "source": [
    "day_new = np.arange(1,101)\n",
    "day_pred = np.arange(101,131)"
   ]
  },
  {
   "cell_type": "code",
   "execution_count": 46,
   "id": "775e032b",
   "metadata": {},
   "outputs": [
    {
     "data": {
      "text/plain": [
       "1256"
      ]
     },
     "execution_count": 46,
     "metadata": {},
     "output_type": "execute_result"
    }
   ],
   "source": [
    "len(df1)"
   ]
  },
  {
   "cell_type": "code",
   "execution_count": 47,
   "id": "92d0fca8",
   "metadata": {},
   "outputs": [],
   "source": [
    "df3= df1.tolist()\n",
    "df3.extend(output)"
   ]
  },
  {
   "cell_type": "code",
   "execution_count": 48,
   "id": "5cc3d6cd",
   "metadata": {},
   "outputs": [
    {
     "data": {
      "text/plain": [
       "[<matplotlib.lines.Line2D at 0x1ef30ed5100>]"
      ]
     },
     "execution_count": 48,
     "metadata": {},
     "output_type": "execute_result"
    },
    {
     "data": {
      "image/png": "[encoded data removed]",
      "text/plain": [
       "<Figure size 640x480 with 1 Axes>"
      ]
     },
     "metadata": {},
     "output_type": "display_data"
    }
   ],
   "source": [
    "plt.plot(day_new,scaler.inverse_transform(df1[1156:]))\n",
    "plt.plot(day_pred,scaler.inverse_transform(output))"
   ]
  },
  {
   "cell_type": "code",
   "execution_count": 49,
   "id": "0493d342",
   "metadata": {},
   "outputs": [
    {
     "data": {
      "text/plain": [
       "[<matplotlib.lines.Line2D at 0x1ef30ed6c70>]"
      ]
     },
     "execution_count": 49,
     "metadata": {},
     "output_type": "execute_result"
    },
    {
     "data": {
      "image/png": "[encoded data removed]",
      "text/plain": [
       "<Figure size 640x480 with 1 Axes>"
      ]
     },
     "metadata": {},
     "output_type": "display_data"
    }
   ],
   "source": [
    "df3=df1.tolist()\n",
    "df3.extend(output)\n",
    "plt.plot(df3[1100:])"
   ]
  },
  {
   "cell_type": "code",
   "execution_count": 50,
   "id": "61dee11e",
   "metadata": {},
   "outputs": [],
   "source": [
    "df3=scaler.inverse_transform(df3).tolist()"
   ]
  },
  {
   "cell_type": "code",
   "execution_count": 51,
   "id": "d9a2d94f",
   "metadata": {},
   "outputs": [
    {
     "data": {
      "text/plain": [
       "[<matplotlib.lines.Line2D at 0x1ef340e2340>]"
      ]
     },
     "execution_count": 51,
     "metadata": {},
     "output_type": "execute_result"
    },
    {
     "data": {
      "image/png": "[encoded data removed]",
      "text/plain": [
       "<Figure size 640x480 with 1 Axes>"
      ]
     },
     "metadata": {},
     "output_type": "display_data"
    }
   ],
   "source": [
    "plt.plot(df3)"
   ]
  }
 ],
 "metadata": {
  "kernelspec": {
   "display_name": "Python 3 (ipykernel)",
   "language": "python",
   "name": "python3"
  },
  "language_info": {
   "codemirror_mode": {
    "name": "ipython",
    "version": 3
   },
   "file_extension": ".py",
   "mimetype": "text/x-python",
   "name": "python",
   "nbconvert_exporter": "python",
   "pygments_lexer": "ipython3",
   "version": "3.9.13"
  }
 },
 "nbformat": 4,
 "nbformat_minor": 5
}
